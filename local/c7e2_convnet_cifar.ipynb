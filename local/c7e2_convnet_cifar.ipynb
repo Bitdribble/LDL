{
 "cells": [
  {
   "cell_type": "code",
   "execution_count": 1,
   "metadata": {},
   "outputs": [
    {
     "data": {
      "text/plain": [
       "'\\nThe MIT License (MIT)\\nCopyright (c) 2021 NVIDIA\\nPermission is hereby granted, free of charge, to any person obtaining a copy of\\nthis software and associated documentation files (the \"Software\"), to deal in\\nthe Software without restriction, including without limitation the rights to\\nuse, copy, modify, merge, publish, distribute, sublicense, and/or sell copies of\\nthe Software, and to permit persons to whom the Software is furnished to do so,\\nsubject to the following conditions:\\nThe above copyright notice and this permission notice shall be included in all\\ncopies or substantial portions of the Software.\\nTHE SOFTWARE IS PROVIDED \"AS IS\", WITHOUT WARRANTY OF ANY KIND, EXPRESS OR\\nIMPLIED, INCLUDING BUT NOT LIMITED TO THE WARRANTIES OF MERCHANTABILITY, FITNESS\\nFOR A PARTICULAR PURPOSE AND NONINFRINGEMENT. IN NO EVENT SHALL THE AUTHORS OR\\nCOPYRIGHT HOLDERS BE LIABLE FOR ANY CLAIM, DAMAGES OR OTHER LIABILITY, WHETHER\\nIN AN ACTION OF CONTRACT, TORT OR OTHERWISE, ARISING FROM, OUT OF OR IN\\nCONNECTION WITH THE SOFTWARE OR THE USE OR OTHER DEALINGS IN THE SOFTWARE.\\n'"
      ]
     },
     "execution_count": 1,
     "metadata": {},
     "output_type": "execute_result"
    }
   ],
   "source": [
    "\"\"\"\n",
    "The MIT License (MIT)\n",
    "Copyright (c) 2021 NVIDIA\n",
    "Permission is hereby granted, free of charge, to any person obtaining a copy of\n",
    "this software and associated documentation files (the \"Software\"), to deal in\n",
    "the Software without restriction, including without limitation the rights to\n",
    "use, copy, modify, merge, publish, distribute, sublicense, and/or sell copies of\n",
    "the Software, and to permit persons to whom the Software is furnished to do so,\n",
    "subject to the following conditions:\n",
    "The above copyright notice and this permission notice shall be included in all\n",
    "copies or substantial portions of the Software.\n",
    "THE SOFTWARE IS PROVIDED \"AS IS\", WITHOUT WARRANTY OF ANY KIND, EXPRESS OR\n",
    "IMPLIED, INCLUDING BUT NOT LIMITED TO THE WARRANTIES OF MERCHANTABILITY, FITNESS\n",
    "FOR A PARTICULAR PURPOSE AND NONINFRINGEMENT. IN NO EVENT SHALL THE AUTHORS OR\n",
    "COPYRIGHT HOLDERS BE LIABLE FOR ANY CLAIM, DAMAGES OR OTHER LIABILITY, WHETHER\n",
    "IN AN ACTION OF CONTRACT, TORT OR OTHERWISE, ARISING FROM, OUT OF OR IN\n",
    "CONNECTION WITH THE SOFTWARE OR THE USE OR OTHER DEALINGS IN THE SOFTWARE.\n",
    "\"\"\"\n"
   ]
  },
  {
   "cell_type": "markdown",
   "metadata": {},
   "source": [
    "This code example demonstrates how to use a convolutional neural network to solve an image classification problem, using the CIFAR-10 dataset. More context for this code example can be found in the section \"Programming Example: Image Classification with a Convolutional Network\" in Chapter 7 in the book Learning Deep Learning by Magnus Ekman (ISBN: 9780137470358).\n"
   ]
  },
  {
   "cell_type": "markdown",
   "metadata": {},
   "source": [
    "The first code snippet shows the initialization code for our CNN program. The code is similar to c5e2_mnist_learning but instead of MNIST we load and standardize the CIFAR-10 dataset.\n"
   ]
  },
  {
   "cell_type": "code",
   "execution_count": 2,
   "metadata": {},
   "outputs": [
    {
     "name": "stdout",
     "output_type": "stream",
     "text": [
      "Files already downloaded and verified\n",
      "Files already downloaded and verified\n",
      "Files already downloaded and verified\n"
     ]
    }
   ],
   "source": [
    "import torch\n",
    "import torch.nn as nn\n",
    "from torchsummary import summary\n",
    "import torchvision\n",
    "import torchvision.transforms as transforms\n",
    "from torchvision.datasets import CIFAR10\n",
    "from torch.utils.data import DataLoader\n",
    "import numpy as np\n",
    "from pt_framework.utilities import train_model\n",
    "\n",
    "device = torch.device(\"cuda:0\" if torch.cuda.is_available() else \"cpu\")\n",
    "EPOCHS = 128\n",
    "BATCH_SIZE = 32\n",
    "\n",
    "# Load training dataset into a single batch to compute mean and stddev.\n",
    "transform = transforms.Compose([transforms.ToTensor()])\n",
    "trainset = CIFAR10(root='./pt_data', train=True, download=True, transform=transform)\n",
    "trainloader = DataLoader(trainset, batch_size=len(trainset), shuffle=False)\n",
    "data = next(iter(trainloader))\n",
    "mean = data[0].mean()\n",
    "stddev = data[0].std()\n",
    "\n",
    "# Load and standardize training and test dataset.\n",
    "transform = transforms.Compose(\n",
    "    [transforms.ToTensor(),\n",
    "     transforms.Normalize(mean, stddev)])\n",
    "\n",
    "trainset = CIFAR10(root='./pt_data', train=True, download=True, transform=transform)\n",
    "testset = CIFAR10(root='./pt_data', train=False, download=True, transform=transform)\n"
   ]
  },
  {
   "cell_type": "markdown",
   "metadata": {},
   "source": [
    "The actual model is created by the next code snippet, which declares a Sequential model. We are now working with a 2D convolutional layer, so there is no need to start with a Flatten layer because the dimensions of the input image already match the required dimension of the first layer. We tell the layer that the input image has 3 channels and we want the layer to output 64 channels. We also state that we want a kernel size of 5×5, a stride of 2x2. Finally, we state that we want to pad the image with 2 pixels on each side, which in combination with the 5x5 kernel size and 2x2 stride will result in the output resolution being half of the resolution of the input image. That is, the output of the layer will be 16x16 neurons per channel. We specify the neuron type as ReLU because that has been shown to be a good activation function.\n",
    "\n",
    "The next convolutional layer is similar but with a smaller kernel size. The number of input channels (64) must match the number of output channels from the previous layer. The number of neurons per channel is implicitly defined as 8×8 because the previous layer was 16×16 outputs per channel, and we choose a stride of 2x2 for this layer as well. We set padding to 1 since our kernel size is 3.\n",
    "\n",
    "Before we can add the fully connected (Linear) layer, we need to flatten (convert from three dimensions to a single dimension) the outputs from the second convolutional layer. We compute the number of inputs for this layer as 64x8x8 (the previous convolutional layer was 64 channels and 8x8 neurons per channel). We use softmax activation for the fully connected layer so we can interpret the one-hot encoded outputs as probabilities.\n",
    "\n",
    "We use Kaiming (He) initialization for the weights in the convolutional layers and Xavier (Glorot) for the fully connected layer.\n",
    "\n",
    "We finally select the categorical_crossentropy loss function and use the Adam optimizer in our call to compile. We then print out a description of the network with a call to model.summary().\n"
   ]
  },
  {
   "cell_type": "code",
   "execution_count": 58,
   "metadata": {},
   "outputs": [],
   "source": [
    "p_dropout=0.4\n",
    "\n",
    "model = nn.Sequential(                         # Input is 3x32x32.\n",
    "    nn.Conv2d(3, 64, 4, stride=1, padding=3),  # Output is 64x32x32\n",
    "    nn.ReLU(),\n",
    "    nn.Dropout(p=p_dropout),\n",
    "    nn.Conv2d(64, 64, 2, stride=2, padding=0), # Output is 64x16x16\n",
    "    nn.ReLU(),\n",
    "    nn.Dropout(p=p_dropout),\n",
    "    nn.Conv2d(64, 64, 3, stride=1, padding=1), # Output is 64x16x16.\n",
    "    nn.ReLU(),\n",
    "    nn.MaxPool2d(2, stride=2),                 # Output is 64x8x8\n",
    "    nn.Dropout(p=p_dropout),\n",
    "    nn.Flatten(),\n",
    "    nn.Linear(64 * 8 * 8, 64 * 4 * 4),\n",
    "    nn.ReLU(),\n",
    "    nn.Dropout(p=p_dropout),\n",
    "    nn.Linear(64 * 4 * 4, 10)\n",
    ")\n",
    "\n",
    "# Retrieve layers for custom weight initialization.\n",
    "layers = next(model.modules())\n",
    "conv_layer0 = layers[0]\n",
    "conv_layer1 = layers[3]\n",
    "conv_layer2 = layers[6]\n",
    "output_layer0 = layers[11]\n",
    "output_layer1 = layers[14]\n",
    "\n",
    "# Kaiming (He) initialization.\n",
    "nn.init.kaiming_normal_(conv_layer0.weight)\n",
    "nn.init.constant_(conv_layer0.bias, 0.0)\n",
    "nn.init.kaiming_normal_(conv_layer1.weight)\n",
    "nn.init.constant_(conv_layer1.bias, 0.0)\n",
    "nn.init.kaiming_normal_(conv_layer2.weight)\n",
    "nn.init.constant_(conv_layer2.bias, 0.0)\n",
    "\n",
    "# Xavier (Glorot) initialization.\n",
    "nn.init.xavier_uniform_(output_layer0.weight)\n",
    "nn.init.constant_(output_layer0.bias, 0.0)\n",
    "nn.init.xavier_uniform_(output_layer1.weight)\n",
    "nn.init.constant_(output_layer1.bias, 0.0)\n",
    "\n",
    "# Loss function and optimizer\n",
    "optimizer = torch.optim.Adam(model.parameters())\n",
    "loss_function = nn.CrossEntropyLoss()\n"
   ]
  },
  {
   "cell_type": "markdown",
   "metadata": {},
   "source": [
    "We are now ready to train the network by calling the same train_model() function that was used in the c6e1_boston example, but this time we give the argument \"acc\" because we work on a classification problem and therefore want the function to compute accuracy instead of mean absolute error (mae).\n"
   ]
  },
  {
   "cell_type": "code",
   "execution_count": 59,
   "metadata": {},
   "outputs": [
    {
     "name": "stdout",
     "output_type": "stream",
     "text": [
      "----------------------------------------------------------------\n",
      "        Layer (type)               Output Shape         Param #\n",
      "================================================================\n",
      "            Conv2d-1           [-1, 64, 35, 35]           3,136\n",
      "              ReLU-2           [-1, 64, 35, 35]               0\n",
      "           Dropout-3           [-1, 64, 35, 35]               0\n",
      "            Conv2d-4           [-1, 64, 17, 17]          16,448\n",
      "              ReLU-5           [-1, 64, 17, 17]               0\n",
      "           Dropout-6           [-1, 64, 17, 17]               0\n",
      "            Conv2d-7           [-1, 64, 17, 17]          36,928\n",
      "              ReLU-8           [-1, 64, 17, 17]               0\n",
      "         MaxPool2d-9             [-1, 64, 8, 8]               0\n",
      "          Dropout-10             [-1, 64, 8, 8]               0\n",
      "          Flatten-11                 [-1, 4096]               0\n",
      "           Linear-12                 [-1, 1024]       4,195,328\n",
      "             ReLU-13                 [-1, 1024]               0\n",
      "          Dropout-14                 [-1, 1024]               0\n",
      "           Linear-15                   [-1, 10]          10,250\n",
      "================================================================\n",
      "Total params: 4,262,090\n",
      "Trainable params: 4,262,090\n",
      "Non-trainable params: 0\n",
      "----------------------------------------------------------------\n",
      "Input size (MB): 0.01\n",
      "Forward/backward pass size (MB): 2.62\n",
      "Params size (MB): 16.26\n",
      "Estimated Total Size (MB): 18.89\n",
      "----------------------------------------------------------------\n",
      "None\n",
      "Sequential(\n",
      "  (0): Conv2d(3, 64, kernel_size=(4, 4), stride=(1, 1), padding=(3, 3))\n",
      "  (1): ReLU()\n",
      "  (2): Dropout(p=0.4, inplace=False)\n",
      "  (3): Conv2d(64, 64, kernel_size=(2, 2), stride=(2, 2))\n",
      "  (4): ReLU()\n",
      "  (5): Dropout(p=0.4, inplace=False)\n",
      "  (6): Conv2d(64, 64, kernel_size=(3, 3), stride=(1, 1), padding=(1, 1))\n",
      "  (7): ReLU()\n",
      "  (8): MaxPool2d(kernel_size=2, stride=2, padding=0, dilation=1, ceil_mode=False)\n",
      "  (9): Dropout(p=0.4, inplace=False)\n",
      "  (10): Flatten(start_dim=1, end_dim=-1)\n",
      "  (11): Linear(in_features=4096, out_features=1024, bias=True)\n",
      "  (12): ReLU()\n",
      "  (13): Dropout(p=0.4, inplace=False)\n",
      "  (14): Linear(in_features=1024, out_features=10, bias=True)\n",
      ")\n"
     ]
    }
   ],
   "source": [
    "print(summary(model.cuda(), (3, 32, 32)))\n",
    "print(model)"
   ]
  },
  {
   "cell_type": "code",
   "execution_count": null,
   "metadata": {
    "scrolled": true
   },
   "outputs": [
    {
     "name": "stdout",
     "output_type": "stream",
     "text": [
      "Epoch 1/128 loss: 1.7878 - acc: 0.3774 - val_loss: 1.3685 - val_acc: 0.5176\n",
      "Epoch 2/128 loss: 1.3433 - acc: 0.5164 - val_loss: 1.1349 - val_acc: 0.6035\n",
      "Epoch 3/128 loss: 1.1909 - acc: 0.5783 - val_loss: 1.0244 - val_acc: 0.6407\n",
      "Epoch 4/128 loss: 1.1015 - acc: 0.6105 - val_loss: 0.9789 - val_acc: 0.6593\n",
      "Epoch 5/128 loss: 1.0341 - acc: 0.6370 - val_loss: 0.9380 - val_acc: 0.6836\n",
      "Epoch 6/128 loss: 0.9862 - acc: 0.6534 - val_loss: 0.8724 - val_acc: 0.7027\n",
      "Epoch 7/128 loss: 0.9400 - acc: 0.6707 - val_loss: 0.8699 - val_acc: 0.7031\n",
      "Epoch 8/128 loss: 0.9136 - acc: 0.6797 - val_loss: 0.8386 - val_acc: 0.7079\n",
      "Epoch 9/128 loss: 0.8776 - acc: 0.6931 - val_loss: 0.8440 - val_acc: 0.7099\n",
      "Epoch 10/128 loss: 0.8516 - acc: 0.7020 - val_loss: 0.8214 - val_acc: 0.7222\n",
      "Epoch 11/128 loss: 0.8360 - acc: 0.7085 - val_loss: 0.7795 - val_acc: 0.7306\n",
      "Epoch 12/128 loss: 0.8094 - acc: 0.7172 - val_loss: 0.8019 - val_acc: 0.7252\n",
      "Epoch 13/128 loss: 0.7945 - acc: 0.7251 - val_loss: 0.7806 - val_acc: 0.7335\n",
      "Epoch 14/128 loss: 0.7680 - acc: 0.7326 - val_loss: 0.7603 - val_acc: 0.7388\n",
      "Epoch 15/128 loss: 0.7437 - acc: 0.7411 - val_loss: 0.7704 - val_acc: 0.7360\n",
      "Epoch 16/128 loss: 0.7420 - acc: 0.7462 - val_loss: 0.7562 - val_acc: 0.7416\n",
      "Epoch 17/128 loss: 0.7230 - acc: 0.7524 - val_loss: 0.7473 - val_acc: 0.7406\n",
      "Epoch 18/128 loss: 0.7136 - acc: 0.7519 - val_loss: 0.7390 - val_acc: 0.7451\n",
      "Epoch 19/128 loss: 0.6975 - acc: 0.7588 - val_loss: 0.7449 - val_acc: 0.7444\n",
      "Epoch 20/128 loss: 0.6847 - acc: 0.7629 - val_loss: 0.7626 - val_acc: 0.7419\n",
      "Epoch 21/128 loss: 0.6715 - acc: 0.7689 - val_loss: 0.7557 - val_acc: 0.7442\n",
      "Epoch 22/128 loss: 0.6646 - acc: 0.7723 - val_loss: 0.7383 - val_acc: 0.7517\n",
      "Epoch 23/128 loss: 0.6601 - acc: 0.7725 - val_loss: 0.7274 - val_acc: 0.7494\n",
      "Epoch 24/128 loss: 0.6380 - acc: 0.7802 - val_loss: 0.7182 - val_acc: 0.7527\n",
      "Epoch 25/128 loss: 0.6284 - acc: 0.7846 - val_loss: 0.7293 - val_acc: 0.7493\n",
      "Epoch 26/128 loss: 0.6148 - acc: 0.7889 - val_loss: 0.8204 - val_acc: 0.7330\n",
      "Epoch 27/128 loss: 0.6177 - acc: 0.7866 - val_loss: 0.7345 - val_acc: 0.7489\n",
      "Epoch 28/128 loss: 0.6151 - acc: 0.7895 - val_loss: 0.7304 - val_acc: 0.7535\n",
      "Epoch 29/128 loss: 0.5975 - acc: 0.7976 - val_loss: 0.7222 - val_acc: 0.7542\n",
      "Epoch 30/128 loss: 0.5839 - acc: 0.8022 - val_loss: 0.7255 - val_acc: 0.7577\n",
      "Epoch 31/128 loss: 0.5868 - acc: 0.7993 - val_loss: 0.7268 - val_acc: 0.7598\n",
      "Epoch 32/128 loss: 0.5723 - acc: 0.8059 - val_loss: 0.7468 - val_acc: 0.7498\n",
      "Epoch 33/128 loss: 0.5728 - acc: 0.8076 - val_loss: 0.7365 - val_acc: 0.7497\n",
      "Epoch 34/128 loss: 0.5653 - acc: 0.8089 - val_loss: 0.7516 - val_acc: 0.7534\n",
      "Epoch 35/128 loss: 0.5541 - acc: 0.8124 - val_loss: 0.7466 - val_acc: 0.7509\n",
      "Epoch 36/128 loss: 0.5525 - acc: 0.8148 - val_loss: 0.7248 - val_acc: 0.7562\n",
      "Epoch 37/128 loss: 0.5370 - acc: 0.8179 - val_loss: 0.7408 - val_acc: 0.7550\n",
      "Epoch 38/128 loss: 0.5467 - acc: 0.8181 - val_loss: 0.7386 - val_acc: 0.7579\n",
      "Epoch 39/128 loss: 0.5352 - acc: 0.8195 - val_loss: 0.7370 - val_acc: 0.7580\n",
      "Epoch 40/128 loss: 0.5281 - acc: 0.8233 - val_loss: 0.7521 - val_acc: 0.7546\n",
      "Epoch 41/128 loss: 0.5237 - acc: 0.8243 - val_loss: 0.7412 - val_acc: 0.7566\n",
      "Epoch 42/128 loss: 0.5165 - acc: 0.8270 - val_loss: 0.7319 - val_acc: 0.7596\n",
      "Epoch 43/128 loss: 0.5123 - acc: 0.8261 - val_loss: 0.7401 - val_acc: 0.7584\n",
      "Epoch 44/128 loss: 0.5127 - acc: 0.8299 - val_loss: 0.7537 - val_acc: 0.7518\n",
      "Epoch 45/128 loss: 0.5092 - acc: 0.8298 - val_loss: 0.7499 - val_acc: 0.7569\n",
      "Epoch 46/128 loss: 0.5146 - acc: 0.8307 - val_loss: 0.7322 - val_acc: 0.7554\n",
      "Epoch 47/128 loss: 0.5042 - acc: 0.8324 - val_loss: 0.7575 - val_acc: 0.7509\n",
      "Epoch 48/128 loss: 0.5000 - acc: 0.8346 - val_loss: 0.7957 - val_acc: 0.7476\n",
      "Epoch 49/128 loss: 0.4966 - acc: 0.8360 - val_loss: 0.7625 - val_acc: 0.7562\n",
      "Epoch 50/128 loss: 0.4943 - acc: 0.8347 - val_loss: 0.7515 - val_acc: 0.7635\n",
      "Epoch 51/128 loss: 0.4948 - acc: 0.8371 - val_loss: 0.7624 - val_acc: 0.7537\n",
      "Epoch 52/128 loss: 0.4758 - acc: 0.8420 - val_loss: 0.7575 - val_acc: 0.7592\n",
      "Epoch 53/128 loss: 0.4786 - acc: 0.8438 - val_loss: 0.7547 - val_acc: 0.7545\n",
      "Epoch 54/128 loss: 0.4692 - acc: 0.8456 - val_loss: 0.7697 - val_acc: 0.7519\n",
      "Epoch 55/128 loss: 0.4698 - acc: 0.8471 - val_loss: 0.7592 - val_acc: 0.7574\n",
      "Epoch 56/128 loss: 0.4770 - acc: 0.8445 - val_loss: 0.7399 - val_acc: 0.7597\n",
      "Epoch 57/128 loss: 0.4625 - acc: 0.8488 - val_loss: 0.7746 - val_acc: 0.7572\n",
      "Epoch 58/128 loss: 0.4651 - acc: 0.8465 - val_loss: 0.7476 - val_acc: 0.7612\n",
      "Epoch 59/128 loss: 0.4515 - acc: 0.8539 - val_loss: 0.7449 - val_acc: 0.7597\n",
      "Epoch 60/128 loss: 0.4694 - acc: 0.8454 - val_loss: 0.7327 - val_acc: 0.7673\n",
      "Epoch 61/128 loss: 0.4508 - acc: 0.8525 - val_loss: 0.7518 - val_acc: 0.7634\n",
      "Epoch 62/128 loss: 0.4546 - acc: 0.8522 - val_loss: 0.7490 - val_acc: 0.7642\n",
      "Epoch 63/128 loss: 0.4539 - acc: 0.8523 - val_loss: 0.7841 - val_acc: 0.7638\n",
      "Epoch 64/128 loss: 0.4536 - acc: 0.8510 - val_loss: 0.7778 - val_acc: 0.7673\n",
      "Epoch 65/128 loss: 0.4383 - acc: 0.8557 - val_loss: 0.7657 - val_acc: 0.7653\n",
      "Epoch 66/128 loss: 0.4447 - acc: 0.8544 - val_loss: 0.7752 - val_acc: 0.7673\n",
      "Epoch 67/128 loss: 0.4479 - acc: 0.8534 - val_loss: 0.7797 - val_acc: 0.7564\n",
      "Epoch 68/128 loss: 0.4462 - acc: 0.8550 - val_loss: 0.7879 - val_acc: 0.7572\n",
      "Epoch 69/128 loss: 0.4357 - acc: 0.8580 - val_loss: 0.7828 - val_acc: 0.7585\n",
      "Epoch 70/128 loss: 0.4388 - acc: 0.8577 - val_loss: 0.7888 - val_acc: 0.7646\n",
      "Epoch 71/128 loss: 0.4261 - acc: 0.8640 - val_loss: 0.7908 - val_acc: 0.7647\n",
      "Epoch 72/128 loss: 0.4382 - acc: 0.8588 - val_loss: 0.7959 - val_acc: 0.7616\n",
      "Epoch 73/128 loss: 0.4228 - acc: 0.8637 - val_loss: 0.8072 - val_acc: 0.7558\n",
      "Epoch 74/128 loss: 0.4284 - acc: 0.8623 - val_loss: 0.7670 - val_acc: 0.7592\n",
      "Epoch 75/128 loss: 0.4266 - acc: 0.8622 - val_loss: 0.8502 - val_acc: 0.7596\n",
      "Epoch 76/128 loss: 0.4274 - acc: 0.8618 - val_loss: 0.7699 - val_acc: 0.7635\n",
      "Epoch 77/128 loss: 0.4375 - acc: 0.8593 - val_loss: 0.7889 - val_acc: 0.7590\n",
      "Epoch 78/128 loss: 0.4189 - acc: 0.8645 - val_loss: 0.7786 - val_acc: 0.7635\n",
      "Epoch 79/128 loss: 0.4162 - acc: 0.8665 - val_loss: 0.8182 - val_acc: 0.7477\n",
      "Epoch 80/128 loss: 0.4207 - acc: 0.8648 - val_loss: 0.7815 - val_acc: 0.7576\n",
      "Epoch 81/128 loss: 0.4181 - acc: 0.8657 - val_loss: 0.7791 - val_acc: 0.7593\n",
      "Epoch 82/128 loss: 0.4191 - acc: 0.8660 - val_loss: 0.7764 - val_acc: 0.7643\n",
      "Epoch 83/128 loss: 0.4214 - acc: 0.8668 - val_loss: 0.7992 - val_acc: 0.7574\n",
      "Epoch 84/128 loss: 0.4073 - acc: 0.8699 - val_loss: 0.8044 - val_acc: 0.7648\n",
      "Epoch 85/128 loss: 0.4051 - acc: 0.8703 - val_loss: 0.7778 - val_acc: 0.7647\n",
      "Epoch 86/128 loss: 0.3977 - acc: 0.8733 - val_loss: 0.8059 - val_acc: 0.7590\n",
      "Epoch 87/128 loss: 0.4014 - acc: 0.8701 - val_loss: 0.7975 - val_acc: 0.7704\n",
      "Epoch 88/128 loss: 0.4058 - acc: 0.8730 - val_loss: 0.8085 - val_acc: 0.7654\n",
      "Epoch 89/128 loss: 0.4120 - acc: 0.8698 - val_loss: 0.8200 - val_acc: 0.7581\n",
      "Epoch 90/128 loss: 0.3972 - acc: 0.8717 - val_loss: 0.8174 - val_acc: 0.7651\n",
      "Epoch 91/128 loss: 0.4040 - acc: 0.8716 - val_loss: 0.8178 - val_acc: 0.7582\n",
      "Epoch 92/128 loss: 0.4012 - acc: 0.8712 - val_loss: 0.7933 - val_acc: 0.7638\n",
      "Epoch 93/128 loss: 0.3978 - acc: 0.8734 - val_loss: 0.8044 - val_acc: 0.7675\n",
      "Epoch 94/128 loss: 0.3984 - acc: 0.8740 - val_loss: 0.8434 - val_acc: 0.7577\n",
      "Epoch 95/128 loss: 0.4079 - acc: 0.8706 - val_loss: 0.8032 - val_acc: 0.7596\n",
      "Epoch 96/128 loss: 0.3909 - acc: 0.8756 - val_loss: 0.8777 - val_acc: 0.7461\n",
      "Epoch 97/128 loss: 0.3908 - acc: 0.8737 - val_loss: 0.8261 - val_acc: 0.7623\n",
      "Epoch 98/128 loss: 0.3961 - acc: 0.8743 - val_loss: 0.8121 - val_acc: 0.7529\n",
      "Epoch 99/128 loss: 0.4007 - acc: 0.8721 - val_loss: 0.8097 - val_acc: 0.7610\n",
      "Epoch 100/128 loss: 0.3935 - acc: 0.8762 - val_loss: 0.8204 - val_acc: 0.7601\n",
      "Epoch 101/128 loss: 0.3916 - acc: 0.8772 - val_loss: 0.8108 - val_acc: 0.7590\n",
      "Epoch 102/128 loss: 0.3946 - acc: 0.8761 - val_loss: 0.8390 - val_acc: 0.7505\n",
      "Epoch 103/128 loss: 0.3907 - acc: 0.8770 - val_loss: 0.8317 - val_acc: 0.7522\n",
      "Epoch 104/128 loss: 0.3914 - acc: 0.8763 - val_loss: 0.8609 - val_acc: 0.7576\n",
      "Epoch 105/128 loss: 0.3927 - acc: 0.8754 - val_loss: 0.8259 - val_acc: 0.7594\n",
      "Epoch 106/128 loss: 0.3949 - acc: 0.8761 - val_loss: 0.8421 - val_acc: 0.7572\n",
      "Epoch 107/128 loss: 0.3925 - acc: 0.8774 - val_loss: 0.7945 - val_acc: 0.7597\n"
     ]
    },
    {
     "name": "stdout",
     "output_type": "stream",
     "text": [
      "Epoch 108/128 loss: 0.3860 - acc: 0.8772 - val_loss: 0.8181 - val_acc: 0.7638\n",
      "Epoch 109/128 loss: 0.3949 - acc: 0.8746 - val_loss: 0.8681 - val_acc: 0.7561\n",
      "Epoch 110/128 loss: 0.3847 - acc: 0.8793 - val_loss: 0.8249 - val_acc: 0.7633\n",
      "Epoch 111/128 loss: 0.3875 - acc: 0.8772 - val_loss: 0.8288 - val_acc: 0.7584\n",
      "Epoch 112/128 loss: 0.3793 - acc: 0.8806 - val_loss: 0.8420 - val_acc: 0.7645\n",
      "Epoch 113/128 loss: 0.3822 - acc: 0.8790 - val_loss: 0.8450 - val_acc: 0.7547\n",
      "Epoch 114/128 loss: 0.3892 - acc: 0.8794 - val_loss: 0.8461 - val_acc: 0.7622\n",
      "Epoch 115/128 loss: 0.3756 - acc: 0.8814 - val_loss: 0.8148 - val_acc: 0.7681\n",
      "Epoch 116/128 loss: 0.3810 - acc: 0.8820 - val_loss: 0.7945 - val_acc: 0.7598\n",
      "Epoch 117/128 loss: 0.3883 - acc: 0.8773 - val_loss: 0.8385 - val_acc: 0.7623\n",
      "Epoch 118/128 loss: 0.3788 - acc: 0.8819 - val_loss: 0.8109 - val_acc: 0.7578\n",
      "Epoch 119/128 loss: 0.3864 - acc: 0.8797 - val_loss: 0.8123 - val_acc: 0.7628\n",
      "Epoch 120/128 loss: 0.3808 - acc: 0.8823 - val_loss: 0.8550 - val_acc: 0.7584\n",
      "Epoch 121/128 loss: 0.3802 - acc: 0.8809 - val_loss: 0.8441 - val_acc: 0.7626\n",
      "Epoch 122/128 loss: 0.3779 - acc: 0.8824 - val_loss: 0.8229 - val_acc: 0.7540\n",
      "Epoch 123/128 loss: 0.3834 - acc: 0.8817 - val_loss: 0.8464 - val_acc: 0.7608\n"
     ]
    }
   ],
   "source": [
    "# Train the model.\n",
    "train_model(model, device, EPOCHS, BATCH_SIZE, trainset, testset,\n",
    "            optimizer, loss_function, 'acc')\n"
   ]
  },
  {
   "cell_type": "code",
   "execution_count": null,
   "metadata": {},
   "outputs": [],
   "source": []
  }
 ],
 "metadata": {
  "kernelspec": {
   "display_name": "Python 3 (ipykernel)",
   "language": "python",
   "name": "python3"
  },
  "language_info": {
   "codemirror_mode": {
    "name": "ipython",
    "version": 3
   },
   "file_extension": ".py",
   "mimetype": "text/x-python",
   "name": "python",
   "nbconvert_exporter": "python",
   "pygments_lexer": "ipython3",
   "version": "3.8.10"
  }
 },
 "nbformat": 4,
 "nbformat_minor": 2
}
