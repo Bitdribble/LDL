{
 "cells": [
  {
   "cell_type": "code",
   "execution_count": null,
   "metadata": {},
   "outputs": [],
   "source": [
    "\"\"\"\n",
    "The MIT License (MIT)\n",
    "Copyright (c) 2021 NVIDIA\n",
    "Permission is hereby granted, free of charge, to any person obtaining a copy of\n",
    "this software and associated documentation files (the \"Software\"), to deal in\n",
    "the Software without restriction, including without limitation the rights to\n",
    "use, copy, modify, merge, publish, distribute, sublicense, and/or sell copies of\n",
    "the Software, and to permit persons to whom the Software is furnished to do so,\n",
    "subject to the following conditions:\n",
    "The above copyright notice and this permission notice shall be included in all\n",
    "copies or substantial portions of the Software.\n",
    "THE SOFTWARE IS PROVIDED \"AS IS\", WITHOUT WARRANTY OF ANY KIND, EXPRESS OR\n",
    "IMPLIED, INCLUDING BUT NOT LIMITED TO THE WARRANTIES OF MERCHANTABILITY, FITNESS\n",
    "FOR A PARTICULAR PURPOSE AND NONINFRINGEMENT. IN NO EVENT SHALL THE AUTHORS OR\n",
    "COPYRIGHT HOLDERS BE LIABLE FOR ANY CLAIM, DAMAGES OR OTHER LIABILITY, WHETHER\n",
    "IN AN ACTION OF CONTRACT, TORT OR OTHERWISE, ARISING FROM, OUT OF OR IN\n",
    "CONNECTION WITH THE SOFTWARE OR THE USE OR OTHER DEALINGS IN THE SOFTWARE.\n",
    "\"\"\"\n"
   ]
  },
  {
   "cell_type": "markdown",
   "metadata": {},
   "source": [
    "This code example demonstrates how to use a convolutional neural network to solve an image classification problem, using the CIFAR-10 dataset. More context for this code example can be found in the section \"Programming Example: Image Classification with a Convolutional Network\" in Chapter 7 in the book Learning Deep Learning by Magnus Ekman (ISBN: 9780137470358).\n"
   ]
  },
  {
   "cell_type": "markdown",
   "metadata": {},
   "source": [
    "The first code snippet shows the initialization code for our CNN program. The code is similar to c5e2_mnist_learning but instead of MNIST we load and standardize the CIFAR-10 dataset.\n"
   ]
  },
  {
   "cell_type": "code",
   "execution_count": 2,
   "metadata": {},
   "outputs": [
    {
     "name": "stdout",
     "output_type": "stream",
     "text": [
      "Files already downloaded and verified\n",
      "Files already downloaded and verified\n",
      "Files already downloaded and verified\n"
     ]
    }
   ],
   "source": [
    "import torch\n",
    "import torch.nn as nn\n",
    "import torchvision\n",
    "import torchvision.transforms as transforms\n",
    "from torchvision.datasets import CIFAR10\n",
    "from torch.utils.data import DataLoader\n",
    "import numpy as np\n",
    "from utilities import train_model\n",
    "\n",
    "device = torch.device(\"cuda:0\" if torch.cuda.is_available() else \"cpu\")\n",
    "EPOCHS = 128\n",
    "BATCH_SIZE = 32\n",
    "\n",
    "# Load training dataset into a single batch to compute mean and stddev.\n",
    "transform = transforms.Compose([transforms.ToTensor()])\n",
    "trainset = CIFAR10(root='./pt_data', train=True, download=True, transform=transform)\n",
    "trainloader = DataLoader(trainset, batch_size=len(trainset), shuffle=False)\n",
    "data = next(iter(trainloader))\n",
    "mean = data[0].mean()\n",
    "stddev = data[0].std()\n",
    "\n",
    "# Load and standardize training and test dataset.\n",
    "transform = transforms.Compose(\n",
    "    [transforms.ToTensor(),\n",
    "     transforms.Normalize(mean, stddev)])\n",
    "\n",
    "trainset = CIFAR10(root='./pt_data', train=True, download=True, transform=transform)\n",
    "testset = CIFAR10(root='./pt_data', train=False, download=True, transform=transform)\n"
   ]
  },
  {
   "cell_type": "markdown",
   "metadata": {},
   "source": [
    "The actual model is created by the next code snippet, which declares a Sequential model. We are now working with a 2D convolutional layer, so there is no need to start with a Flatten layer because the dimensions of the input image already match the required dimension of the first layer. We tell the layer that the input image has 3 channels and we want the layer to output 64 channels. We also state that we want a kernel size of 5×5, a stride of 2x2. Finally, we state that we want to pad the image with 2 pixels on each side, which in combination with the 5x5 kernel size and 2x2 stride will result in the output resolution being half of the resolution of the input image. That is, the output of the layer will be 16x16 neurons per channel. We specify the neuron type as ReLU because that has been shown to be a good activation function.\n",
    "\n",
    "The next convolutional layer is similar but with a smaller kernel size. The number of input channels (64) must match the number of output channels from the previous layer. The number of neurons per channel is implicitly defined as 8×8 because the previous layer was 16×16 outputs per channel, and we choose a stride of 2x2 for this layer as well. We set padding to 1 since our kernel size is 3.\n",
    "\n",
    "Before we can add the fully connected (Linear) layer, we need to flatten (convert from three dimensions to a single dimension) the outputs from the second convolutional layer. We compute the number of inputs for this layer as 64x8x8 (the previous convolutional layer was 64 channels and 8x8 neurons per channel). We use softmax activation for the fully connected layer so we can interpret the one-hot encoded outputs as probabilities.\n",
    "\n",
    "We use Kaiming (He) initialization for the weights in the convolutional layers and Xavier (Glorot) for the fully connected layer.\n",
    "\n",
    "We finally select the categorical_crossentropy loss function and use the Adam optimizer in our call to compile. We then print out a description of the network with a call to model.summary().\n"
   ]
  },
  {
   "cell_type": "code",
   "execution_count": 3,
   "metadata": {},
   "outputs": [],
   "source": [
    "# Model with 2 convolutional and 1 fully-connected layer.\n",
    "model = nn.Sequential(                         # Input is 3x32x32.\n",
    "    nn.Conv2d(3, 64, 5, stride=2, padding=2),  # Output is 64x16x16.\n",
    "    nn.ReLU(),\n",
    "    nn.Conv2d(64, 64, 3, stride=2, padding=1), # Output is 64x8x8.\n",
    "    nn.ReLU(),\n",
    "    nn.Flatten(),\n",
    "    nn.Linear(64 * 8 * 8, 10)\n",
    ")\n",
    "\n",
    "# Retrieve layers for custom weight initialization.\n",
    "layers = next(model.modules())\n",
    "conv_layer0 = layers[0]\n",
    "conv_layer1 = layers[2]\n",
    "output_layer = layers[5]\n",
    "\n",
    "# Kaiming (He) initialization.\n",
    "nn.init.kaiming_normal_(conv_layer0.weight)\n",
    "nn.init.constant_(conv_layer0.bias, 0.0)\n",
    "nn.init.kaiming_normal_(conv_layer1.weight)\n",
    "nn.init.constant_(conv_layer1.bias, 0.0)\n",
    "\n",
    "# Xavier (Glorot) initialization.\n",
    "nn.init.xavier_uniform_(output_layer.weight)\n",
    "nn.init.constant_(output_layer.bias, 0.0)\n",
    "\n",
    "# Loss function and optimizer\n",
    "optimizer = torch.optim.Adam(model.parameters())\n",
    "loss_function = nn.CrossEntropyLoss()\n"
   ]
  },
  {
   "cell_type": "markdown",
   "metadata": {},
   "source": [
    "We are now ready to train the network by calling the same train_model() function that was used in the c6e1_boston example, but this time we give the argument \"acc\" because we work on a classification problem and therefore want the function to compute accuracy instead of mean absolute error (mae).\n"
   ]
  },
  {
   "cell_type": "code",
   "execution_count": null,
   "metadata": {},
   "outputs": [
    {
     "name": "stdout",
     "output_type": "stream",
     "text": [
      "Epoch 1/128 loss: 1.4011 - acc: 0.5061 - val_loss: 1.1771 - val_acc: 0.5829\n",
      "Epoch 2/128 loss: 1.0523 - acc: 0.6337 - val_loss: 1.1186 - val_acc: 0.6152\n",
      "Epoch 3/128 loss: 0.9065 - acc: 0.6861 - val_loss: 1.0238 - val_acc: 0.6467\n",
      "Epoch 4/128 loss: 0.8030 - acc: 0.7212 - val_loss: 1.0300 - val_acc: 0.6486\n",
      "Epoch 5/128 loss: 0.7254 - acc: 0.7472 - val_loss: 1.0729 - val_acc: 0.6372\n",
      "Epoch 6/128 loss: 0.6578 - acc: 0.7681 - val_loss: 1.1080 - val_acc: 0.6419\n",
      "Epoch 7/128 loss: 0.5993 - acc: 0.7902 - val_loss: 1.1504 - val_acc: 0.6426\n",
      "Epoch 8/128 loss: 0.5521 - acc: 0.8057 - val_loss: 1.2189 - val_acc: 0.6383\n",
      "Epoch 9/128 loss: 0.5055 - acc: 0.8209 - val_loss: 1.2647 - val_acc: 0.6444\n",
      "Epoch 10/128 loss: 0.4667 - acc: 0.8356 - val_loss: 1.3662 - val_acc: 0.6328\n",
      "Epoch 11/128 loss: 0.4262 - acc: 0.8483 - val_loss: 1.3978 - val_acc: 0.6264\n",
      "Epoch 12/128 loss: 0.3905 - acc: 0.8598 - val_loss: 1.4749 - val_acc: 0.6302\n",
      "Epoch 13/128 loss: 0.3613 - acc: 0.8722 - val_loss: 1.5977 - val_acc: 0.6348\n",
      "Epoch 14/128 loss: 0.3325 - acc: 0.8812 - val_loss: 1.6575 - val_acc: 0.6311\n",
      "Epoch 15/128 loss: 0.3130 - acc: 0.8865 - val_loss: 1.7785 - val_acc: 0.6291\n",
      "Epoch 16/128 loss: 0.2888 - acc: 0.8967 - val_loss: 1.8447 - val_acc: 0.6165\n",
      "Epoch 17/128 loss: 0.2746 - acc: 0.9004 - val_loss: 1.9704 - val_acc: 0.6191\n",
      "Epoch 18/128 loss: 0.2592 - acc: 0.9068 - val_loss: 2.0726 - val_acc: 0.6171\n",
      "Epoch 19/128 loss: 0.2402 - acc: 0.9131 - val_loss: 2.1066 - val_acc: 0.6197\n",
      "Epoch 20/128 loss: 0.2271 - acc: 0.9178 - val_loss: 2.2250 - val_acc: 0.6147\n",
      "Epoch 21/128 loss: 0.2166 - acc: 0.9210 - val_loss: 2.3193 - val_acc: 0.6199\n",
      "Epoch 22/128 loss: 0.2041 - acc: 0.9266 - val_loss: 2.4804 - val_acc: 0.6179\n",
      "Epoch 23/128 loss: 0.2031 - acc: 0.9269 - val_loss: 2.5426 - val_acc: 0.6164\n",
      "Epoch 24/128 loss: 0.1922 - acc: 0.9310 - val_loss: 2.6738 - val_acc: 0.6087\n",
      "Epoch 25/128 loss: 0.1811 - acc: 0.9335 - val_loss: 2.8528 - val_acc: 0.6126\n",
      "Epoch 26/128 loss: 0.1826 - acc: 0.9353 - val_loss: 2.9159 - val_acc: 0.6123\n",
      "Epoch 27/128 loss: 0.1684 - acc: 0.9406 - val_loss: 2.9503 - val_acc: 0.6155\n",
      "Epoch 28/128 loss: 0.1712 - acc: 0.9388 - val_loss: 3.0580 - val_acc: 0.6138\n",
      "Epoch 29/128 loss: 0.1666 - acc: 0.9406 - val_loss: 3.1737 - val_acc: 0.6122\n",
      "Epoch 30/128 loss: 0.1653 - acc: 0.9421 - val_loss: 3.2385 - val_acc: 0.6089\n",
      "Epoch 31/128 loss: 0.1484 - acc: 0.9478 - val_loss: 3.3677 - val_acc: 0.6138\n",
      "Epoch 32/128 loss: 0.1574 - acc: 0.9447 - val_loss: 3.4370 - val_acc: 0.6143\n",
      "Epoch 33/128 loss: 0.1525 - acc: 0.9467 - val_loss: 3.5953 - val_acc: 0.6070\n",
      "Epoch 34/128 loss: 0.1515 - acc: 0.9478 - val_loss: 3.5811 - val_acc: 0.6075\n",
      "Epoch 35/128 loss: 0.1524 - acc: 0.9481 - val_loss: 3.7049 - val_acc: 0.6105\n"
     ]
    }
   ],
   "source": [
    "# Train the model.\n",
    "train_model(model, device, EPOCHS, BATCH_SIZE, trainset, testset,\n",
    "            optimizer, loss_function, 'acc')\n"
   ]
  }
 ],
 "metadata": {
  "kernelspec": {
   "display_name": "Python 3 (ipykernel)",
   "language": "python",
   "name": "python3"
  },
  "language_info": {
   "codemirror_mode": {
    "name": "ipython",
    "version": 3
   },
   "file_extension": ".py",
   "mimetype": "text/x-python",
   "name": "python",
   "nbconvert_exporter": "python",
   "pygments_lexer": "ipython3",
   "version": "3.8.10"
  }
 },
 "nbformat": 4,
 "nbformat_minor": 2
}
