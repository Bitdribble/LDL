{
  "cells": [
    {
      "cell_type": "markdown",
      "metadata": {
        "id": "view-in-github",
        "colab_type": "text"
      },
      "source": [
        "<a href=\"https://colab.research.google.com/github/Bitdribble/LDL/blob/main/colab/c4e1_explore_mnist.ipynb\" target=\"_parent\"><img src=\"https://colab.research.google.com/assets/colab-badge.svg\" alt=\"Open In Colab\"/></a>"
      ]
    },
    {
      "cell_type": "code",
      "execution_count": 1,
      "metadata": {
        "colab": {
          "base_uri": "https://localhost:8080/"
        },
        "id": "jcIlJnGO4Ggt",
        "outputId": "27cc800f-a3f6-4de9-b800-bdcbcf78c513"
      },
      "outputs": [
        {
          "output_type": "stream",
          "name": "stdout",
          "text": [
            "Cloning into 'LDL'...\n",
            "remote: Enumerating objects: 213, done.\u001b[K\n",
            "remote: Counting objects: 100% (213/213), done.\u001b[K\n",
            "remote: Compressing objects: 100% (132/132), done.\u001b[K\n",
            "remote: Total 213 (delta 114), reused 166 (delta 77), pack-reused 0\u001b[K\n",
            "Receiving objects: 100% (213/213), 1.22 MiB | 9.28 MiB/s, done.\n",
            "Resolving deltas: 100% (114/114), done.\n",
            "/content/LDL\n",
            "Collecting idx2numpy\n",
            "  Downloading idx2numpy-1.2.3.tar.gz (6.8 kB)\n",
            "Requirement already satisfied: numpy in /usr/local/lib/python3.7/dist-packages (from idx2numpy->-r colab_requirements.txt (line 3)) (1.19.5)\n",
            "Requirement already satisfied: six in /usr/local/lib/python3.7/dist-packages (from idx2numpy->-r colab_requirements.txt (line 3)) (1.15.0)\n",
            "Building wheels for collected packages: idx2numpy\n",
            "  Building wheel for idx2numpy (setup.py) ... \u001b[?25l\u001b[?25hdone\n",
            "  Created wheel for idx2numpy: filename=idx2numpy-1.2.3-py3-none-any.whl size=7919 sha256=70cf6558a966d03d5320290e2130b295fb9ad7cab584c359b06be4d1d53cbf65\n",
            "  Stored in directory: /root/.cache/pip/wheels/1a/ce/ad/d5e95a35cfe34149aade5e500f2edd535c0566d79e9a8e1d8a\n",
            "Successfully built idx2numpy\n",
            "Installing collected packages: idx2numpy\n",
            "Successfully installed idx2numpy-1.2.3\n",
            "download_mnist.sh  README.txt\n",
            "Downloading train-images-idx3-ubyte.gz\n",
            "  % Total    % Received % Xferd  Average Speed   Time    Time     Time  Current\n",
            "                                 Dload  Upload   Total   Spent    Left  Speed\n",
            "100 9680k  100 9680k    0     0  48.7M      0 --:--:-- --:--:-- --:--:-- 48.7M\n",
            "Downloading train-labels-idx1-ubyte.gz\n",
            "  % Total    % Received % Xferd  Average Speed   Time    Time     Time  Current\n",
            "                                 Dload  Upload   Total   Spent    Left  Speed\n",
            "100 28881  100 28881    0     0   783k      0 --:--:-- --:--:-- --:--:--  762k\n",
            "Downloading t10k-images-idx3-ubyte.gz\n",
            "  % Total    % Received % Xferd  Average Speed   Time    Time     Time  Current\n",
            "                                 Dload  Upload   Total   Spent    Left  Speed\n",
            "100 1610k  100 1610k    0     0  14.9M      0 --:--:-- --:--:-- --:--:-- 14.9M\n",
            "Downloading t10k-labels-idx1-ubyte.gz\n",
            "  % Total    % Received % Xferd  Average Speed   Time    Time     Time  Current\n",
            "                                 Dload  Upload   Total   Spent    Left  Speed\n",
            "100  4542  100  4542    0     0   113k      0 --:--:-- --:--:-- --:--:--  113k\n",
            "/content/LDL/stand_alone\n"
          ]
        }
      ],
      "source": [
        "\"\"\"\n",
        "The MIT License (MIT)\n",
        "Copyright (c) 2021 NVIDIA\n",
        "Permission is hereby granted, free of charge, to any person obtaining a copy of\n",
        "this software and associated documentation files (the \"Software\"), to deal in\n",
        "the Software without restriction, including without limitation the rights to\n",
        "use, copy, modify, merge, publish, distribute, sublicense, and/or sell copies of\n",
        "the Software, and to permit persons to whom the Software is furnished to do so,\n",
        "subject to the following conditions:\n",
        "The above copyright notice and this permission notice shall be included in all\n",
        "copies or substantial portions of the Software.\n",
        "THE SOFTWARE IS PROVIDED \"AS IS\", WITHOUT WARRANTY OF ANY KIND, EXPRESS OR\n",
        "IMPLIED, INCLUDING BUT NOT LIMITED TO THE WARRANTIES OF MERCHANTABILITY, FITNESS\n",
        "FOR A PARTICULAR PURPOSE AND NONINFRINGEMENT. IN NO EVENT SHALL THE AUTHORS OR\n",
        "COPYRIGHT HOLDERS BE LIABLE FOR ANY CLAIM, DAMAGES OR OTHER LIABILITY, WHETHER\n",
        "IN AN ACTION OF CONTRACT, TORT OR OTHERWISE, ARISING FROM, OUT OF OR IN\n",
        "CONNECTION WITH THE SOFTWARE OR THE USE OR OTHER DEALINGS IN THE SOFTWARE.\n",
        "\"\"\"\n",
        "\n",
        "# Set up sandbox environment\n",
        "!rm -rf LDL\n",
        "!git clone https://github.com/Bitdribble/LDL.git\n",
        "\n",
        "# Install module dependencies\n",
        "%cd /content/LDL\n",
        "%pip install -r colab_requirements.txt\n",
        "\n",
        "# Download data\n",
        "!ls data/mnist\n",
        "!./data/mnist/download_mnist.sh\n",
        "\n",
        "# cd to desired directory\n",
        "%cd /content/LDL/stand_alone"
      ]
    },
    {
      "cell_type": "markdown",
      "metadata": {
        "id": "RL_vs-I54Ggz"
      },
      "source": [
        "This code example loads and explores the MNIST dataset. The dataset first needs to be downloaded and decompressed into the ../data/mnist directory (see README file). More context for this code example can be found in the section \"Exploring the dataset\" in Chapter 4 in the book Learning Deep Learning by Magnus Ekman (ISBN: 9780137470358)."
      ]
    },
    {
      "cell_type": "markdown",
      "metadata": {
        "id": "7lchP8Qi4Gg2"
      },
      "source": [
        "The first code snippet shows how we load the files into NumPy arrays and then print the dimensions of these arrays. The file format is not a standard image format, but it is easy to read the files using the idx2numpy library. The dataset is assumed to be in the directory ../data/mnist/.\n"
      ]
    },
    {
      "cell_type": "code",
      "execution_count": 2,
      "metadata": {
        "colab": {
          "base_uri": "https://localhost:8080/"
        },
        "id": "8G5kscKx4Gg3",
        "outputId": "66c4f328-0417-49c4-edb2-d7e9f3dec694"
      },
      "outputs": [
        {
          "output_type": "stream",
          "name": "stdout",
          "text": [
            "dimensions of train_images:  (60000, 28, 28)\n",
            "dimensions of train_labels:  (60000,)\n",
            "dimensions of test_images:  (10000, 28, 28)\n",
            "dimensions of test_images:  (10000,)\n"
          ]
        }
      ],
      "source": [
        "import idx2numpy\n",
        "TRAIN_IMAGE_FILENAME = '../data/mnist/train-images-idx3-ubyte'\n",
        "TRAIN_LABEL_FILENAME = '../data/mnist/train-labels-idx1-ubyte'\n",
        "TEST_IMAGE_FILENAME = '../data/mnist/t10k-images-idx3-ubyte'\n",
        "TEST_LABEL_FILENAME = '../data/mnist/t10k-labels-idx1-ubyte'\n",
        "\n",
        "# Read files.\n",
        "train_images = idx2numpy.convert_from_file(\n",
        "    TRAIN_IMAGE_FILENAME)\n",
        "train_labels = idx2numpy.convert_from_file(\n",
        "    TRAIN_LABEL_FILENAME)\n",
        "test_images = idx2numpy.convert_from_file(TEST_IMAGE_FILENAME)\n",
        "test_labels = idx2numpy.convert_from_file(TEST_LABEL_FILENAME)\n",
        "\n",
        "# Print dimensions.\n",
        "print('dimensions of train_images: ', train_images.shape)\n",
        "print('dimensions of train_labels: ', train_labels.shape)\n",
        "print('dimensions of test_images: ', test_images.shape)\n",
        "print('dimensions of test_images: ', test_labels.shape)\n"
      ]
    },
    {
      "cell_type": "markdown",
      "metadata": {
        "id": "Mlhda9We4Gg5"
      },
      "source": [
        "The next code snippet prints out the first training label and image pattern.\n"
      ]
    },
    {
      "cell_type": "code",
      "execution_count": 3,
      "metadata": {
        "colab": {
          "base_uri": "https://localhost:8080/"
        },
        "id": "nQKHFhRP4Gg5",
        "outputId": "27edbeaa-7a19-4064-837f-3404b07f480c"
      },
      "outputs": [
        {
          "output_type": "stream",
          "name": "stdout",
          "text": [
            "label for first training example:  5\n",
            "---beginning of pattern for first training example---\n",
            "                                                        \n",
            "                                                        \n",
            "                                                        \n",
            "                                                        \n",
            "                                                        \n",
            "                        * * * * * * * * * * * *         \n",
            "                * * * * * * * * * * * * * * * *         \n",
            "              * * * * * * * * * * * * * * * *           \n",
            "              * * * * * * * * * * *                     \n",
            "                * * * * * * *   * *                     \n",
            "                  * * * * *                             \n",
            "                      * * * *                           \n",
            "                      * * * *                           \n",
            "                        * * * * * *                     \n",
            "                          * * * * * *                   \n",
            "                            * * * * * *                 \n",
            "                              * * * * *                 \n",
            "                                  * * * *               \n",
            "                            * * * * * * *               \n",
            "                        * * * * * * * *                 \n",
            "                    * * * * * * * * *                   \n",
            "                * * * * * * * * * *                     \n",
            "            * * * * * * * * * *                         \n",
            "        * * * * * * * * * *                             \n",
            "        * * * * * * * *                                 \n",
            "                                                        \n",
            "                                                        \n",
            "                                                        \n",
            "---end of pattern for first training example---\n"
          ]
        }
      ],
      "source": [
        "# Print one training example.\n",
        "print('label for first training example: ', train_labels[0])\n",
        "print('---beginning of pattern for first training example---')\n",
        "for line in train_images[0]:\n",
        "    for num in line:\n",
        "        if num > 0:\n",
        "            print('*', end = ' ')\n",
        "        else:\n",
        "            print(' ', end = ' ')\n",
        "    print('')\n",
        "print('---end of pattern for first training example---')\n"
      ]
    }
  ],
  "metadata": {
    "kernelspec": {
      "display_name": "Python 3",
      "language": "python",
      "name": "python3"
    },
    "language_info": {
      "codemirror_mode": {
        "name": "ipython",
        "version": 3
      },
      "file_extension": ".py",
      "mimetype": "text/x-python",
      "name": "python",
      "nbconvert_exporter": "python",
      "pygments_lexer": "ipython3",
      "version": "3.8.6"
    },
    "colab": {
      "name": "c4e1_explore_mnist.ipynb",
      "provenance": [],
      "include_colab_link": true
    }
  },
  "nbformat": 4,
  "nbformat_minor": 0
}