{
  "cells": [
    {
      "cell_type": "markdown",
      "metadata": {
        "id": "view-in-github",
        "colab_type": "text"
      },
      "source": [
        "<a href=\"https://colab.research.google.com/github/Bitdribble/LDL/blob/main/colab/tests/c7e2_convnet_cifar_dropout.ipynb\" target=\"_parent\"><img src=\"https://colab.research.google.com/assets/colab-badge.svg\" alt=\"Open In Colab\"/></a>"
      ]
    },
    {
      "cell_type": "code",
      "execution_count": null,
      "metadata": {
        "id": "ExWVoXH_kxIq"
      },
      "outputs": [],
      "source": [
        "\"\"\"\n",
        "The MIT License (MIT)\n",
        "Copyright (c) 2021 NVIDIA\n",
        "Permission is hereby granted, free of charge, to any person obtaining a copy of\n",
        "this software and associated documentation files (the \"Software\"), to deal in\n",
        "the Software without restriction, including without limitation the rights to\n",
        "use, copy, modify, merge, publish, distribute, sublicense, and/or sell copies of\n",
        "the Software, and to permit persons to whom the Software is furnished to do so,\n",
        "subject to the following conditions:\n",
        "The above copyright notice and this permission notice shall be included in all\n",
        "copies or substantial portions of the Software.\n",
        "THE SOFTWARE IS PROVIDED \"AS IS\", WITHOUT WARRANTY OF ANY KIND, EXPRESS OR\n",
        "IMPLIED, INCLUDING BUT NOT LIMITED TO THE WARRANTIES OF MERCHANTABILITY, FITNESS\n",
        "FOR A PARTICULAR PURPOSE AND NONINFRINGEMENT. IN NO EVENT SHALL THE AUTHORS OR\n",
        "COPYRIGHT HOLDERS BE LIABLE FOR ANY CLAIM, DAMAGES OR OTHER LIABILITY, WHETHER\n",
        "IN AN ACTION OF CONTRACT, TORT OR OTHERWISE, ARISING FROM, OUT OF OR IN\n",
        "CONNECTION WITH THE SOFTWARE OR THE USE OR OTHER DEALINGS IN THE SOFTWARE.\n",
        "\"\"\"\n"
      ]
    },
    {
      "cell_type": "code",
      "source": [
        "# Set up sandbox environment\n",
        "!rm -rf LDL\n",
        "!git clone https://github.com/Bitdribble/LDL.git\n",
        "\n",
        "# Install module dependencies\n",
        "!pip install -r /content/LDL/colab_requirements.txt\n",
        "\n",
        "# cd to desired directory\n",
        "%cd /content/LDL"
      ],
      "metadata": {
        "colab": {
          "base_uri": "https://localhost:8080/"
        },
        "id": "dnMHXkJ6lcfK",
        "outputId": "19fc07fa-96aa-4eb2-c27d-16d0bb25b66d"
      },
      "execution_count": null,
      "outputs": [
        {
          "output_type": "stream",
          "name": "stdout",
          "text": [
            "Cloning into 'LDL'...\n",
            "remote: Enumerating objects: 353, done.\u001b[K\n",
            "remote: Counting objects: 100% (353/353), done.\u001b[K\n",
            "remote: Compressing objects: 100% (248/248), done.\u001b[K\n",
            "remote: Total 353 (delta 233), reused 207 (delta 101), pack-reused 0\u001b[K\n",
            "Receiving objects: 100% (353/353), 1.41 MiB | 18.21 MiB/s, done.\n",
            "Resolving deltas: 100% (233/233), done.\n",
            "Collecting idx2numpy\n",
            "  Downloading idx2numpy-1.2.3.tar.gz (6.8 kB)\n",
            "Requirement already satisfied: numpy in /usr/local/lib/python3.7/dist-packages (from idx2numpy->-r /content/LDL/colab_requirements.txt (line 3)) (1.19.5)\n",
            "Requirement already satisfied: six in /usr/local/lib/python3.7/dist-packages (from idx2numpy->-r /content/LDL/colab_requirements.txt (line 3)) (1.15.0)\n",
            "Building wheels for collected packages: idx2numpy\n",
            "  Building wheel for idx2numpy (setup.py) ... \u001b[?25l\u001b[?25hdone\n",
            "  Created wheel for idx2numpy: filename=idx2numpy-1.2.3-py3-none-any.whl size=7919 sha256=1072590be7bf8812e0cfe0179557fa76a9359a9e6d0cbbe1074ad770b98179f0\n",
            "  Stored in directory: /root/.cache/pip/wheels/1a/ce/ad/d5e95a35cfe34149aade5e500f2edd535c0566d79e9a8e1d8a\n",
            "Successfully built idx2numpy\n",
            "Installing collected packages: idx2numpy\n",
            "Successfully installed idx2numpy-1.2.3\n",
            "/content/LDL\n"
          ]
        }
      ]
    },
    {
      "cell_type": "markdown",
      "metadata": {
        "id": "RfVnSWVJkxIt"
      },
      "source": [
        "This code example demonstrates how to use a convolutional neural network to solve an image classification problem, using the CIFAR-10 dataset. More context for this code example can be found in the section \"Programming Example: Image Classification with a Convolutional Network\" in Chapter 7 in the book Learning Deep Learning by Magnus Ekman (ISBN: 9780137470358).\n"
      ]
    },
    {
      "cell_type": "markdown",
      "metadata": {
        "id": "ktCvhnDMkxIw"
      },
      "source": [
        "The first code snippet shows the initialization code for our CNN program. The code is similar to c5e2_mnist_learning but instead of MNIST we load and standardize the CIFAR-10 dataset.\n"
      ]
    },
    {
      "cell_type": "code",
      "execution_count": null,
      "metadata": {
        "colab": {
          "base_uri": "https://localhost:8080/"
        },
        "id": "kKoe-TVbkxIx",
        "outputId": "710c8265-a79f-48fd-c64f-a527f98f3bfa"
      },
      "outputs": [
        {
          "output_type": "stream",
          "name": "stdout",
          "text": [
            "Files already downloaded and verified\n",
            "Files already downloaded and verified\n",
            "Files already downloaded and verified\n"
          ]
        }
      ],
      "source": [
        "import torch\n",
        "import torch.nn as nn\n",
        "import torchvision\n",
        "import torchvision.transforms as transforms\n",
        "from torchvision.datasets import CIFAR10\n",
        "from torch.utils.data import DataLoader\n",
        "import numpy as np\n",
        "from pt_framework.utilities import train_model_df\n",
        "\n",
        "device = torch.device(\"cuda:0\" if torch.cuda.is_available() else \"cpu\")\n",
        "EPOCHS = 128\n",
        "BATCH_SIZE = 32\n",
        "\n",
        "# Load training dataset into a single batch to compute mean and stddev.\n",
        "transform = transforms.Compose([transforms.ToTensor()])\n",
        "trainset = CIFAR10(root='./pt_data', train=True, download=True, transform=transform)\n",
        "trainloader = DataLoader(trainset, batch_size=len(trainset), shuffle=False)\n",
        "data = next(iter(trainloader))\n",
        "mean = data[0].mean() # Compute mean and stddev on batch rather than entire set\n",
        "stddev = data[0].std()\n",
        "\n",
        "# Load and standardize training and test dataset.\n",
        "transform = transforms.Compose(\n",
        "    [transforms.ToTensor(),\n",
        "     transforms.Normalize(mean, stddev)])\n",
        "\n",
        "trainset = CIFAR10(root='./pt_data', train=True, download=True, transform=transform)\n",
        "testset = CIFAR10(root='./pt_data', train=False, download=True, transform=transform)\n"
      ]
    },
    {
      "cell_type": "markdown",
      "metadata": {
        "id": "l0jSRDzxkxIz"
      },
      "source": [
        "The actual model is created by the next code snippet, which declares a Sequential model. We are now working with a 2D convolutional layer, so there is no need to start with a Flatten layer because the dimensions of the input image already match the required dimension of the first layer. We tell the layer that the input image has 3 channels and we want the layer to output 64 channels. We also state that we want a kernel size of 5×5, a stride of 2x2. Finally, we state that we want to pad the image with 2 pixels on each side, which in combination with the 5x5 kernel size and 2x2 stride will result in the output resolution being half of the resolution of the input image. That is, the output of the layer will be 16x16 neurons per channel. We specify the neuron type as ReLU because that has been shown to be a good activation function.\n",
        "\n",
        "The next convolutional layer is similar but with a smaller kernel size. The number of input channels (64) must match the number of output channels from the previous layer. The number of neurons per channel is implicitly defined as 8×8 because the previous layer was 16×16 outputs per channel, and we choose a stride of 2x2 for this layer as well. We set padding to 1 since our kernel size is 3.\n",
        "\n",
        "Before we can add the fully connected (Linear) layer, we need to flatten (convert from three dimensions to a single dimension) the outputs from the second convolutional layer. We compute the number of inputs for this layer as 64x8x8 (the previous convolutional layer was 64 channels and 8x8 neurons per channel). We use softmax activation for the fully connected layer so we can interpret the one-hot encoded outputs as probabilities.\n",
        "\n",
        "We use Kaiming (He) initialization for the weights in the convolutional layers and Xavier (Glorot) for the fully connected layer.\n",
        "\n",
        "We finally select the categorical_crossentropy loss function and use the Adam optimizer in our call to compile. We then print out a description of the network with a call to model.summary().\n"
      ]
    },
    {
      "cell_type": "code",
      "execution_count": null,
      "metadata": {
        "id": "1G-NYJgRkxI0"
      },
      "outputs": [],
      "source": [
        "# Model with 2 convolutional and 1 fully-connected layer.\n",
        "model = nn.Sequential(                         # Input  is 3x32x32.\n",
        "    nn.Conv2d(3, 64, 5, stride=2, padding=2),  # Output is 64x16x16.\n",
        "    nn.ReLU(),\n",
        "    nn.Dropout2d(p=0.4),\n",
        "    nn.Conv2d(64, 64, 3, stride=2, padding=1), # Output is 64x8x8.\n",
        "    nn.ReLU(),\n",
        "    nn.Dropout2d(p=0.4),\n",
        "    nn.Flatten(),\n",
        "    nn.Linear(64 * 8 * 8, 10)\n",
        ")\n",
        "\n",
        "# Retrieve layers for custom weight initialization.\n",
        "layers = next(model.modules())\n",
        "conv_layer0 = layers[0]\n",
        "conv_layer1 = layers[3]\n",
        "output_layer = layers[7]\n",
        "\n",
        "# Kaiming (He) initialization.\n",
        "nn.init.kaiming_normal_(conv_layer0.weight)\n",
        "nn.init.constant_(conv_layer0.bias, 0.0)\n",
        "nn.init.kaiming_normal_(conv_layer1.weight)\n",
        "nn.init.constant_(conv_layer1.bias, 0.0)\n",
        "\n",
        "# Xavier (Glorot) initialization.\n",
        "nn.init.xavier_uniform_(output_layer.weight)\n",
        "nn.init.constant_(output_layer.bias, 0.0)\n",
        "\n",
        "# Loss function and optimizer\n",
        "optimizer = torch.optim.Adam(model.parameters())\n",
        "loss_function = nn.CrossEntropyLoss()\n"
      ]
    },
    {
      "cell_type": "markdown",
      "metadata": {
        "id": "idIs44RYkxI2"
      },
      "source": [
        "We are now ready to train the network by calling the same train_model() function that was used in the c6e1_boston example, but this time we give the argument \"acc\" because we work on a classification problem and therefore want the function to compute accuracy instead of mean absolute error (mae).\n"
      ]
    },
    {
      "cell_type": "code",
      "execution_count": null,
      "metadata": {
        "colab": {
          "base_uri": "https://localhost:8080/",
          "height": 1000
        },
        "id": "RIZ6IUlekxI3",
        "outputId": "96192cb9-d4c7-42f8-aab8-1fce5878d7df"
      },
      "outputs": [
        {
          "output_type": "stream",
          "name": "stdout",
          "text": [
            "Epoch 1/128 loss: 1.7503 - acc: 0.3820 - val_loss: 1.3896 - val_acc: 0.5166\n",
            "Epoch 2/128 loss: 1.4524 - acc: 0.4894 - val_loss: 1.2588 - val_acc: 0.5722\n",
            "Epoch 3/128 loss: 1.3428 - acc: 0.5267 - val_loss: 1.1932 - val_acc: 0.5851\n",
            "Epoch 4/128 loss: 1.2844 - acc: 0.5502 - val_loss: 1.1425 - val_acc: 0.5981\n",
            "Epoch 5/128 loss: 1.2426 - acc: 0.5628 - val_loss: 1.1402 - val_acc: 0.6016\n",
            "Epoch 6/128 loss: 1.2234 - acc: 0.5741 - val_loss: 1.1147 - val_acc: 0.6074\n",
            "Epoch 7/128 loss: 1.2001 - acc: 0.5820 - val_loss: 1.1206 - val_acc: 0.6137\n",
            "Epoch 8/128 loss: 1.1862 - acc: 0.5851 - val_loss: 1.1214 - val_acc: 0.6112\n",
            "Epoch 9/128 loss: 1.1763 - acc: 0.5899 - val_loss: 1.0770 - val_acc: 0.6264\n",
            "Epoch 10/128 loss: 1.1639 - acc: 0.5909 - val_loss: 1.1073 - val_acc: 0.6177\n",
            "Epoch 11/128 loss: 1.1559 - acc: 0.5976 - val_loss: 1.0942 - val_acc: 0.6220\n",
            "Epoch 12/128 loss: 1.1402 - acc: 0.6014 - val_loss: 1.1077 - val_acc: 0.6176\n",
            "Epoch 13/128 loss: 1.1364 - acc: 0.5995 - val_loss: 1.0926 - val_acc: 0.6275\n",
            "Epoch 14/128 loss: 1.1290 - acc: 0.6067 - val_loss: 1.1081 - val_acc: 0.6211\n",
            "Epoch 15/128 loss: 1.1236 - acc: 0.6087 - val_loss: 1.1004 - val_acc: 0.6217\n",
            "Epoch 16/128 loss: 1.1171 - acc: 0.6113 - val_loss: 1.0805 - val_acc: 0.6251\n",
            "Epoch 17/128 loss: 1.1086 - acc: 0.6153 - val_loss: 1.0822 - val_acc: 0.6325\n",
            "Epoch 18/128 loss: 1.1107 - acc: 0.6116 - val_loss: 1.0569 - val_acc: 0.6324\n",
            "Epoch 19/128 loss: 1.1050 - acc: 0.6123 - val_loss: 1.0927 - val_acc: 0.6210\n",
            "Epoch 20/128 loss: 1.0986 - acc: 0.6175 - val_loss: 1.0564 - val_acc: 0.6324\n",
            "Epoch 21/128 loss: 1.1017 - acc: 0.6164 - val_loss: 1.0642 - val_acc: 0.6303\n",
            "Epoch 22/128 loss: 1.0993 - acc: 0.6172 - val_loss: 1.0774 - val_acc: 0.6303\n",
            "Epoch 23/128 loss: 1.1002 - acc: 0.6151 - val_loss: 1.0725 - val_acc: 0.6263\n",
            "Epoch 24/128 loss: 1.0965 - acc: 0.6174 - val_loss: 1.0747 - val_acc: 0.6287\n",
            "Epoch 25/128 loss: 1.0858 - acc: 0.6211 - val_loss: 1.0775 - val_acc: 0.6289\n",
            "Epoch 26/128 loss: 1.0826 - acc: 0.6202 - val_loss: 1.0785 - val_acc: 0.6330\n",
            "Epoch 27/128 loss: 1.0851 - acc: 0.6214 - val_loss: 1.0599 - val_acc: 0.6328\n",
            "Epoch 28/128 loss: 1.0812 - acc: 0.6190 - val_loss: 1.0689 - val_acc: 0.6330\n",
            "Epoch 29/128 loss: 1.0829 - acc: 0.6226 - val_loss: 1.0739 - val_acc: 0.6282\n",
            "Epoch 30/128 loss: 1.0732 - acc: 0.6256 - val_loss: 1.0637 - val_acc: 0.6342\n",
            "Epoch 31/128 loss: 1.0802 - acc: 0.6219 - val_loss: 1.0830 - val_acc: 0.6254\n",
            "Epoch 32/128 loss: 1.0791 - acc: 0.6239 - val_loss: 1.0668 - val_acc: 0.6291\n",
            "Epoch 33/128 loss: 1.0806 - acc: 0.6217 - val_loss: 1.0570 - val_acc: 0.6406\n",
            "Epoch 34/128 loss: 1.0701 - acc: 0.6265 - val_loss: 1.0630 - val_acc: 0.6298\n",
            "Epoch 35/128 loss: 1.0715 - acc: 0.6243 - val_loss: 1.0550 - val_acc: 0.6382\n",
            "Epoch 36/128 loss: 1.0745 - acc: 0.6256 - val_loss: 1.0904 - val_acc: 0.6219\n",
            "Epoch 37/128 loss: 1.0701 - acc: 0.6262 - val_loss: 1.0514 - val_acc: 0.6379\n",
            "Epoch 38/128 loss: 1.0632 - acc: 0.6298 - val_loss: 1.0779 - val_acc: 0.6298\n",
            "Epoch 39/128 loss: 1.0700 - acc: 0.6267 - val_loss: 1.0644 - val_acc: 0.6317\n",
            "Epoch 40/128 loss: 1.0699 - acc: 0.6279 - val_loss: 1.0703 - val_acc: 0.6302\n",
            "Epoch 41/128 loss: 1.0651 - acc: 0.6292 - val_loss: 1.0834 - val_acc: 0.6310\n",
            "Epoch 42/128 loss: 1.0656 - acc: 0.6290 - val_loss: 1.0683 - val_acc: 0.6307\n",
            "Epoch 43/128 loss: 1.0578 - acc: 0.6302 - val_loss: 1.0464 - val_acc: 0.6373\n",
            "Epoch 44/128 loss: 1.0614 - acc: 0.6293 - val_loss: 1.0423 - val_acc: 0.6355\n",
            "Epoch 45/128 loss: 1.0576 - acc: 0.6321 - val_loss: 1.0644 - val_acc: 0.6322\n",
            "Epoch 46/128 loss: 1.0693 - acc: 0.6255 - val_loss: 1.0714 - val_acc: 0.6297\n",
            "Epoch 47/128 loss: 1.0497 - acc: 0.6343 - val_loss: 1.0568 - val_acc: 0.6309\n",
            "Epoch 48/128 loss: 1.0604 - acc: 0.6321 - val_loss: 1.0788 - val_acc: 0.6304\n",
            "Epoch 49/128 loss: 1.0532 - acc: 0.6313 - val_loss: 1.0695 - val_acc: 0.6339\n",
            "Epoch 50/128 loss: 1.0539 - acc: 0.6309 - val_loss: 1.0775 - val_acc: 0.6305\n",
            "Epoch 51/128 loss: 1.0561 - acc: 0.6323 - val_loss: 1.0539 - val_acc: 0.6332\n",
            "Epoch 52/128 loss: 1.0455 - acc: 0.6349 - val_loss: 1.0481 - val_acc: 0.6314\n",
            "Epoch 53/128 loss: 1.0510 - acc: 0.6331 - val_loss: 1.0538 - val_acc: 0.6361\n",
            "Epoch 54/128 loss: 1.0524 - acc: 0.6324 - val_loss: 1.0286 - val_acc: 0.6424\n",
            "Epoch 55/128 loss: 1.0483 - acc: 0.6341 - val_loss: 1.0483 - val_acc: 0.6379\n",
            "Epoch 56/128 loss: 1.0472 - acc: 0.6328 - val_loss: 1.0521 - val_acc: 0.6353\n",
            "Epoch 57/128 loss: 1.0498 - acc: 0.6325 - val_loss: 1.0462 - val_acc: 0.6361\n",
            "Epoch 58/128 loss: 1.0507 - acc: 0.6338 - val_loss: 1.0655 - val_acc: 0.6340\n",
            "Epoch 59/128 loss: 1.0472 - acc: 0.6355 - val_loss: 1.0520 - val_acc: 0.6340\n",
            "Epoch 60/128 loss: 1.0430 - acc: 0.6356 - val_loss: 1.0522 - val_acc: 0.6320\n",
            "Epoch 61/128 loss: 1.0447 - acc: 0.6335 - val_loss: 1.0617 - val_acc: 0.6322\n",
            "Epoch 62/128 loss: 1.0475 - acc: 0.6344 - val_loss: 1.0824 - val_acc: 0.6207\n",
            "Epoch 63/128 loss: 1.0471 - acc: 0.6358 - val_loss: 1.0731 - val_acc: 0.6268\n",
            "Epoch 64/128 loss: 1.0468 - acc: 0.6358 - val_loss: 1.0578 - val_acc: 0.6352\n",
            "Epoch 65/128 loss: 1.0506 - acc: 0.6353 - val_loss: 1.0610 - val_acc: 0.6385\n",
            "Epoch 66/128 loss: 1.0497 - acc: 0.6322 - val_loss: 1.0516 - val_acc: 0.6356\n",
            "Epoch 67/128 loss: 1.0444 - acc: 0.6339 - val_loss: 1.0573 - val_acc: 0.6344\n",
            "Epoch 68/128 loss: 1.0382 - acc: 0.6364 - val_loss: 1.0631 - val_acc: 0.6350\n",
            "Epoch 69/128 loss: 1.0407 - acc: 0.6364 - val_loss: 1.0490 - val_acc: 0.6345\n",
            "Epoch 70/128 loss: 1.0394 - acc: 0.6374 - val_loss: 1.0339 - val_acc: 0.6377\n",
            "Epoch 71/128 loss: 1.0415 - acc: 0.6379 - val_loss: 1.0453 - val_acc: 0.6344\n",
            "Epoch 72/128 loss: 1.0399 - acc: 0.6360 - val_loss: 1.0514 - val_acc: 0.6373\n",
            "Epoch 73/128 loss: 1.0423 - acc: 0.6346 - val_loss: 1.0508 - val_acc: 0.6380\n",
            "Epoch 74/128 loss: 1.0471 - acc: 0.6362 - val_loss: 1.0690 - val_acc: 0.6324\n",
            "Epoch 75/128 loss: 1.0399 - acc: 0.6393 - val_loss: 1.0808 - val_acc: 0.6254\n",
            "Epoch 76/128 loss: 1.0353 - acc: 0.6379 - val_loss: 1.0437 - val_acc: 0.6426\n",
            "Epoch 77/128 loss: 1.0357 - acc: 0.6392 - val_loss: 1.0519 - val_acc: 0.6351\n",
            "Epoch 78/128 loss: 1.0359 - acc: 0.6360 - val_loss: 1.0493 - val_acc: 0.6357\n",
            "Epoch 79/128 loss: 1.0342 - acc: 0.6405 - val_loss: 1.0613 - val_acc: 0.6390\n",
            "Epoch 80/128 loss: 1.0308 - acc: 0.6395 - val_loss: 1.0356 - val_acc: 0.6429\n",
            "Epoch 81/128 loss: 1.0333 - acc: 0.6394 - val_loss: 1.0743 - val_acc: 0.6326\n",
            "Epoch 82/128 loss: 1.0335 - acc: 0.6398 - val_loss: 1.0498 - val_acc: 0.6371\n",
            "Epoch 83/128 loss: 1.0326 - acc: 0.6376 - val_loss: 1.0404 - val_acc: 0.6394\n",
            "Epoch 84/128 loss: 1.0422 - acc: 0.6347 - val_loss: 1.0593 - val_acc: 0.6393\n",
            "Epoch 85/128 loss: 1.0394 - acc: 0.6339 - val_loss: 1.0475 - val_acc: 0.6413\n",
            "Epoch 86/128 loss: 1.0367 - acc: 0.6385 - val_loss: 1.0446 - val_acc: 0.6445\n",
            "Epoch 87/128 loss: 1.0320 - acc: 0.6386 - val_loss: 1.0381 - val_acc: 0.6399\n",
            "Epoch 88/128 loss: 1.0318 - acc: 0.6406 - val_loss: 1.0587 - val_acc: 0.6327\n",
            "Epoch 89/128 loss: 1.0290 - acc: 0.6408 - val_loss: 1.0306 - val_acc: 0.6337\n",
            "Epoch 90/128 loss: 1.0417 - acc: 0.6364 - val_loss: 1.0348 - val_acc: 0.6438\n",
            "Epoch 91/128 loss: 1.0351 - acc: 0.6388 - val_loss: 1.0542 - val_acc: 0.6340\n",
            "Epoch 92/128 loss: 1.0328 - acc: 0.6407 - val_loss: 1.0464 - val_acc: 0.6428\n",
            "Epoch 93/128 loss: 1.0259 - acc: 0.6416 - val_loss: 1.0768 - val_acc: 0.6253\n",
            "Epoch 94/128 loss: 1.0337 - acc: 0.6393 - val_loss: 1.0423 - val_acc: 0.6437\n",
            "Epoch 95/128 loss: 1.0277 - acc: 0.6426 - val_loss: 1.0173 - val_acc: 0.6499\n",
            "Epoch 96/128 loss: 1.0300 - acc: 0.6429 - val_loss: 1.0721 - val_acc: 0.6328\n",
            "Epoch 97/128 loss: 1.0280 - acc: 0.6403 - val_loss: 1.0394 - val_acc: 0.6381\n"
          ]
        },
        {
          "output_type": "error",
          "ename": "KeyboardInterrupt",
          "evalue": "ignored",
          "traceback": [
            "\u001b[0;31m---------------------------------------------------------------------------\u001b[0m",
            "\u001b[0;31mKeyboardInterrupt\u001b[0m                         Traceback (most recent call last)",
            "\u001b[0;32m<ipython-input-11-be7657dbb3eb>\u001b[0m in \u001b[0;36m<module>\u001b[0;34m()\u001b[0m\n\u001b[1;32m      1\u001b[0m \u001b[0;31m# Train the model.\u001b[0m\u001b[0;34m\u001b[0m\u001b[0;34m\u001b[0m\u001b[0;34m\u001b[0m\u001b[0m\n\u001b[1;32m      2\u001b[0m return_value = train_model_df(model, device, EPOCHS, BATCH_SIZE, trainset, testset,\n\u001b[0;32m----> 3\u001b[0;31m                               optimizer, loss_function, 'acc')\n\u001b[0m",
            "\u001b[0;32m/content/LDL/pt_framework/utilities.py\u001b[0m in \u001b[0;36mtrain_model_df\u001b[0;34m(model, device, epochs, batch_size, trainset, testset, optimizer, loss_function, metric)\u001b[0m\n\u001b[1;32m    197\u001b[0m             \u001b[0mtest_absolute_error\u001b[0m \u001b[0;34m=\u001b[0m \u001b[0;36m0.0\u001b[0m\u001b[0;34m\u001b[0m\u001b[0;34m\u001b[0m\u001b[0m\n\u001b[1;32m    198\u001b[0m         \u001b[0mtest_batches\u001b[0m \u001b[0;34m=\u001b[0m \u001b[0;36m0\u001b[0m\u001b[0;34m\u001b[0m\u001b[0;34m\u001b[0m\u001b[0m\n\u001b[0;32m--> 199\u001b[0;31m         \u001b[0;32mfor\u001b[0m \u001b[0minputs\u001b[0m\u001b[0;34m,\u001b[0m \u001b[0mtargets\u001b[0m \u001b[0;32min\u001b[0m \u001b[0mtestloader\u001b[0m\u001b[0;34m:\u001b[0m\u001b[0;34m\u001b[0m\u001b[0;34m\u001b[0m\u001b[0m\n\u001b[0m\u001b[1;32m    200\u001b[0m             \u001b[0minputs\u001b[0m\u001b[0;34m,\u001b[0m \u001b[0mtargets\u001b[0m \u001b[0;34m=\u001b[0m \u001b[0minputs\u001b[0m\u001b[0;34m.\u001b[0m\u001b[0mto\u001b[0m\u001b[0;34m(\u001b[0m\u001b[0mdevice\u001b[0m\u001b[0;34m)\u001b[0m\u001b[0;34m,\u001b[0m \u001b[0mtargets\u001b[0m\u001b[0;34m.\u001b[0m\u001b[0mto\u001b[0m\u001b[0;34m(\u001b[0m\u001b[0mdevice\u001b[0m\u001b[0;34m)\u001b[0m\u001b[0;34m\u001b[0m\u001b[0;34m\u001b[0m\u001b[0m\n\u001b[1;32m    201\u001b[0m             \u001b[0moutputs\u001b[0m \u001b[0;34m=\u001b[0m \u001b[0mmodel\u001b[0m\u001b[0;34m(\u001b[0m\u001b[0minputs\u001b[0m\u001b[0;34m)\u001b[0m\u001b[0;34m\u001b[0m\u001b[0;34m\u001b[0m\u001b[0m\n",
            "\u001b[0;32m/usr/local/lib/python3.7/dist-packages/torch/utils/data/dataloader.py\u001b[0m in \u001b[0;36m__next__\u001b[0;34m(self)\u001b[0m\n\u001b[1;32m    519\u001b[0m             \u001b[0;32mif\u001b[0m \u001b[0mself\u001b[0m\u001b[0;34m.\u001b[0m\u001b[0m_sampler_iter\u001b[0m \u001b[0;32mis\u001b[0m \u001b[0;32mNone\u001b[0m\u001b[0;34m:\u001b[0m\u001b[0;34m\u001b[0m\u001b[0;34m\u001b[0m\u001b[0m\n\u001b[1;32m    520\u001b[0m                 \u001b[0mself\u001b[0m\u001b[0;34m.\u001b[0m\u001b[0m_reset\u001b[0m\u001b[0;34m(\u001b[0m\u001b[0;34m)\u001b[0m\u001b[0;34m\u001b[0m\u001b[0;34m\u001b[0m\u001b[0m\n\u001b[0;32m--> 521\u001b[0;31m             \u001b[0mdata\u001b[0m \u001b[0;34m=\u001b[0m \u001b[0mself\u001b[0m\u001b[0;34m.\u001b[0m\u001b[0m_next_data\u001b[0m\u001b[0;34m(\u001b[0m\u001b[0;34m)\u001b[0m\u001b[0;34m\u001b[0m\u001b[0;34m\u001b[0m\u001b[0m\n\u001b[0m\u001b[1;32m    522\u001b[0m             \u001b[0mself\u001b[0m\u001b[0;34m.\u001b[0m\u001b[0m_num_yielded\u001b[0m \u001b[0;34m+=\u001b[0m \u001b[0;36m1\u001b[0m\u001b[0;34m\u001b[0m\u001b[0;34m\u001b[0m\u001b[0m\n\u001b[1;32m    523\u001b[0m             \u001b[0;32mif\u001b[0m \u001b[0mself\u001b[0m\u001b[0;34m.\u001b[0m\u001b[0m_dataset_kind\u001b[0m \u001b[0;34m==\u001b[0m \u001b[0m_DatasetKind\u001b[0m\u001b[0;34m.\u001b[0m\u001b[0mIterable\u001b[0m \u001b[0;32mand\u001b[0m\u001b[0;31m \u001b[0m\u001b[0;31m\\\u001b[0m\u001b[0;34m\u001b[0m\u001b[0;34m\u001b[0m\u001b[0m\n",
            "\u001b[0;32m/usr/local/lib/python3.7/dist-packages/torch/utils/data/dataloader.py\u001b[0m in \u001b[0;36m_next_data\u001b[0;34m(self)\u001b[0m\n\u001b[1;32m    559\u001b[0m     \u001b[0;32mdef\u001b[0m \u001b[0m_next_data\u001b[0m\u001b[0;34m(\u001b[0m\u001b[0mself\u001b[0m\u001b[0;34m)\u001b[0m\u001b[0;34m:\u001b[0m\u001b[0;34m\u001b[0m\u001b[0;34m\u001b[0m\u001b[0m\n\u001b[1;32m    560\u001b[0m         \u001b[0mindex\u001b[0m \u001b[0;34m=\u001b[0m \u001b[0mself\u001b[0m\u001b[0;34m.\u001b[0m\u001b[0m_next_index\u001b[0m\u001b[0;34m(\u001b[0m\u001b[0;34m)\u001b[0m  \u001b[0;31m# may raise StopIteration\u001b[0m\u001b[0;34m\u001b[0m\u001b[0;34m\u001b[0m\u001b[0m\n\u001b[0;32m--> 561\u001b[0;31m         \u001b[0mdata\u001b[0m \u001b[0;34m=\u001b[0m \u001b[0mself\u001b[0m\u001b[0;34m.\u001b[0m\u001b[0m_dataset_fetcher\u001b[0m\u001b[0;34m.\u001b[0m\u001b[0mfetch\u001b[0m\u001b[0;34m(\u001b[0m\u001b[0mindex\u001b[0m\u001b[0;34m)\u001b[0m  \u001b[0;31m# may raise StopIteration\u001b[0m\u001b[0;34m\u001b[0m\u001b[0;34m\u001b[0m\u001b[0m\n\u001b[0m\u001b[1;32m    562\u001b[0m         \u001b[0;32mif\u001b[0m \u001b[0mself\u001b[0m\u001b[0;34m.\u001b[0m\u001b[0m_pin_memory\u001b[0m\u001b[0;34m:\u001b[0m\u001b[0;34m\u001b[0m\u001b[0;34m\u001b[0m\u001b[0m\n\u001b[1;32m    563\u001b[0m             \u001b[0mdata\u001b[0m \u001b[0;34m=\u001b[0m \u001b[0m_utils\u001b[0m\u001b[0;34m.\u001b[0m\u001b[0mpin_memory\u001b[0m\u001b[0;34m.\u001b[0m\u001b[0mpin_memory\u001b[0m\u001b[0;34m(\u001b[0m\u001b[0mdata\u001b[0m\u001b[0;34m)\u001b[0m\u001b[0;34m\u001b[0m\u001b[0;34m\u001b[0m\u001b[0m\n",
            "\u001b[0;32m/usr/local/lib/python3.7/dist-packages/torch/utils/data/_utils/fetch.py\u001b[0m in \u001b[0;36mfetch\u001b[0;34m(self, possibly_batched_index)\u001b[0m\n\u001b[1;32m     47\u001b[0m     \u001b[0;32mdef\u001b[0m \u001b[0mfetch\u001b[0m\u001b[0;34m(\u001b[0m\u001b[0mself\u001b[0m\u001b[0;34m,\u001b[0m \u001b[0mpossibly_batched_index\u001b[0m\u001b[0;34m)\u001b[0m\u001b[0;34m:\u001b[0m\u001b[0;34m\u001b[0m\u001b[0;34m\u001b[0m\u001b[0m\n\u001b[1;32m     48\u001b[0m         \u001b[0;32mif\u001b[0m \u001b[0mself\u001b[0m\u001b[0;34m.\u001b[0m\u001b[0mauto_collation\u001b[0m\u001b[0;34m:\u001b[0m\u001b[0;34m\u001b[0m\u001b[0;34m\u001b[0m\u001b[0m\n\u001b[0;32m---> 49\u001b[0;31m             \u001b[0mdata\u001b[0m \u001b[0;34m=\u001b[0m \u001b[0;34m[\u001b[0m\u001b[0mself\u001b[0m\u001b[0;34m.\u001b[0m\u001b[0mdataset\u001b[0m\u001b[0;34m[\u001b[0m\u001b[0midx\u001b[0m\u001b[0;34m]\u001b[0m \u001b[0;32mfor\u001b[0m \u001b[0midx\u001b[0m \u001b[0;32min\u001b[0m \u001b[0mpossibly_batched_index\u001b[0m\u001b[0;34m]\u001b[0m\u001b[0;34m\u001b[0m\u001b[0;34m\u001b[0m\u001b[0m\n\u001b[0m\u001b[1;32m     50\u001b[0m         \u001b[0;32melse\u001b[0m\u001b[0;34m:\u001b[0m\u001b[0;34m\u001b[0m\u001b[0;34m\u001b[0m\u001b[0m\n\u001b[1;32m     51\u001b[0m             \u001b[0mdata\u001b[0m \u001b[0;34m=\u001b[0m \u001b[0mself\u001b[0m\u001b[0;34m.\u001b[0m\u001b[0mdataset\u001b[0m\u001b[0;34m[\u001b[0m\u001b[0mpossibly_batched_index\u001b[0m\u001b[0;34m]\u001b[0m\u001b[0;34m\u001b[0m\u001b[0;34m\u001b[0m\u001b[0m\n",
            "\u001b[0;32m/usr/local/lib/python3.7/dist-packages/torch/utils/data/_utils/fetch.py\u001b[0m in \u001b[0;36m<listcomp>\u001b[0;34m(.0)\u001b[0m\n\u001b[1;32m     47\u001b[0m     \u001b[0;32mdef\u001b[0m \u001b[0mfetch\u001b[0m\u001b[0;34m(\u001b[0m\u001b[0mself\u001b[0m\u001b[0;34m,\u001b[0m \u001b[0mpossibly_batched_index\u001b[0m\u001b[0;34m)\u001b[0m\u001b[0;34m:\u001b[0m\u001b[0;34m\u001b[0m\u001b[0;34m\u001b[0m\u001b[0m\n\u001b[1;32m     48\u001b[0m         \u001b[0;32mif\u001b[0m \u001b[0mself\u001b[0m\u001b[0;34m.\u001b[0m\u001b[0mauto_collation\u001b[0m\u001b[0;34m:\u001b[0m\u001b[0;34m\u001b[0m\u001b[0;34m\u001b[0m\u001b[0m\n\u001b[0;32m---> 49\u001b[0;31m             \u001b[0mdata\u001b[0m \u001b[0;34m=\u001b[0m \u001b[0;34m[\u001b[0m\u001b[0mself\u001b[0m\u001b[0;34m.\u001b[0m\u001b[0mdataset\u001b[0m\u001b[0;34m[\u001b[0m\u001b[0midx\u001b[0m\u001b[0;34m]\u001b[0m \u001b[0;32mfor\u001b[0m \u001b[0midx\u001b[0m \u001b[0;32min\u001b[0m \u001b[0mpossibly_batched_index\u001b[0m\u001b[0;34m]\u001b[0m\u001b[0;34m\u001b[0m\u001b[0;34m\u001b[0m\u001b[0m\n\u001b[0m\u001b[1;32m     50\u001b[0m         \u001b[0;32melse\u001b[0m\u001b[0;34m:\u001b[0m\u001b[0;34m\u001b[0m\u001b[0;34m\u001b[0m\u001b[0m\n\u001b[1;32m     51\u001b[0m             \u001b[0mdata\u001b[0m \u001b[0;34m=\u001b[0m \u001b[0mself\u001b[0m\u001b[0;34m.\u001b[0m\u001b[0mdataset\u001b[0m\u001b[0;34m[\u001b[0m\u001b[0mpossibly_batched_index\u001b[0m\u001b[0;34m]\u001b[0m\u001b[0;34m\u001b[0m\u001b[0;34m\u001b[0m\u001b[0m\n",
            "\u001b[0;32m/usr/local/lib/python3.7/dist-packages/torchvision/datasets/cifar.py\u001b[0m in \u001b[0;36m__getitem__\u001b[0;34m(self, index)\u001b[0m\n\u001b[1;32m    116\u001b[0m         \u001b[0;31m# doing this so that it is consistent with all other datasets\u001b[0m\u001b[0;34m\u001b[0m\u001b[0;34m\u001b[0m\u001b[0;34m\u001b[0m\u001b[0m\n\u001b[1;32m    117\u001b[0m         \u001b[0;31m# to return a PIL Image\u001b[0m\u001b[0;34m\u001b[0m\u001b[0;34m\u001b[0m\u001b[0;34m\u001b[0m\u001b[0m\n\u001b[0;32m--> 118\u001b[0;31m         \u001b[0mimg\u001b[0m \u001b[0;34m=\u001b[0m \u001b[0mImage\u001b[0m\u001b[0;34m.\u001b[0m\u001b[0mfromarray\u001b[0m\u001b[0;34m(\u001b[0m\u001b[0mimg\u001b[0m\u001b[0;34m)\u001b[0m\u001b[0;34m\u001b[0m\u001b[0;34m\u001b[0m\u001b[0m\n\u001b[0m\u001b[1;32m    119\u001b[0m \u001b[0;34m\u001b[0m\u001b[0m\n\u001b[1;32m    120\u001b[0m         \u001b[0;32mif\u001b[0m \u001b[0mself\u001b[0m\u001b[0;34m.\u001b[0m\u001b[0mtransform\u001b[0m \u001b[0;32mis\u001b[0m \u001b[0;32mnot\u001b[0m \u001b[0;32mNone\u001b[0m\u001b[0;34m:\u001b[0m\u001b[0;34m\u001b[0m\u001b[0;34m\u001b[0m\u001b[0m\n",
            "\u001b[0;32m/usr/local/lib/python3.7/dist-packages/PIL/Image.py\u001b[0m in \u001b[0;36mfromarray\u001b[0;34m(obj, mode)\u001b[0m\n\u001b[1;32m   2702\u001b[0m     \u001b[0;34m.\u001b[0m\u001b[0;34m.\u001b[0m \u001b[0mversionadded\u001b[0m\u001b[0;34m:\u001b[0m\u001b[0;34m:\u001b[0m \u001b[0;36m1.1\u001b[0m\u001b[0;36m.6\u001b[0m\u001b[0;34m\u001b[0m\u001b[0;34m\u001b[0m\u001b[0m\n\u001b[1;32m   2703\u001b[0m     \"\"\"\n\u001b[0;32m-> 2704\u001b[0;31m     \u001b[0marr\u001b[0m \u001b[0;34m=\u001b[0m \u001b[0mobj\u001b[0m\u001b[0;34m.\u001b[0m\u001b[0m__array_interface__\u001b[0m\u001b[0;34m\u001b[0m\u001b[0;34m\u001b[0m\u001b[0m\n\u001b[0m\u001b[1;32m   2705\u001b[0m     \u001b[0mshape\u001b[0m \u001b[0;34m=\u001b[0m \u001b[0marr\u001b[0m\u001b[0;34m[\u001b[0m\u001b[0;34m\"shape\"\u001b[0m\u001b[0;34m]\u001b[0m\u001b[0;34m\u001b[0m\u001b[0;34m\u001b[0m\u001b[0m\n\u001b[1;32m   2706\u001b[0m     \u001b[0mndim\u001b[0m \u001b[0;34m=\u001b[0m \u001b[0mlen\u001b[0m\u001b[0;34m(\u001b[0m\u001b[0mshape\u001b[0m\u001b[0;34m)\u001b[0m\u001b[0;34m\u001b[0m\u001b[0;34m\u001b[0m\u001b[0m\n",
            "\u001b[0;31mKeyboardInterrupt\u001b[0m: "
          ]
        }
      ],
      "source": [
        "# Train the model.\n",
        "return_value = train_model_df(model, device, EPOCHS, BATCH_SIZE, trainset, testset,\n",
        "                              optimizer, loss_function, 'acc')\n"
      ]
    },
    {
      "cell_type": "code",
      "source": [
        "# Display the loss chart\n",
        "import altair as alt\n",
        "\n",
        "# Operate on a copy to not modify loss_df\n",
        "df = return_value[\"df\"].copy()\n",
        "data = df.reset_index().melt(\n",
        "    id_vars=['epoch'], \n",
        "    value_vars=['loss', 'acc', 'val_loss', 'val_acc'])\n",
        "\n",
        "bind = alt.selection_interval(bind='scales')\n",
        "\n",
        "alt.Chart(data).mark_line().encode(\n",
        "    x='epoch',\n",
        "    y='value',\n",
        "    color='variable'\n",
        ").add_selection(\n",
        "    bind\n",
        ")"
      ],
      "metadata": {
        "colab": {
          "base_uri": "https://localhost:8080/",
          "height": 369
        },
        "id": "uqs6mM0PpWHT",
        "outputId": "840f4705-6299-4f33-f8eb-45b471a164b3"
      },
      "execution_count": null,
      "outputs": [
        {
          "output_type": "execute_result",
          "data": {
            "text/plain": [
              "alt.Chart(...)"
            ],
            "text/html": [
              "\n",
              "<div id=\"altair-viz-f5e831953a684bf29ef027eb4734f8a6\"></div>\n",
              "<script type=\"text/javascript\">\n",
              "  (function(spec, embedOpt){\n",
              "    let outputDiv = document.currentScript.previousElementSibling;\n",
              "    if (outputDiv.id !== \"altair-viz-f5e831953a684bf29ef027eb4734f8a6\") {\n",
              "      outputDiv = document.getElementById(\"altair-viz-f5e831953a684bf29ef027eb4734f8a6\");\n",
              "    }\n",
              "    const paths = {\n",
              "      \"vega\": \"https://cdn.jsdelivr.net/npm//vega@5?noext\",\n",
              "      \"vega-lib\": \"https://cdn.jsdelivr.net/npm//vega-lib?noext\",\n",
              "      \"vega-lite\": \"https://cdn.jsdelivr.net/npm//vega-lite@4.8.1?noext\",\n",
              "      \"vega-embed\": \"https://cdn.jsdelivr.net/npm//vega-embed@6?noext\",\n",
              "    };\n",
              "\n",
              "    function loadScript(lib) {\n",
              "      return new Promise(function(resolve, reject) {\n",
              "        var s = document.createElement('script');\n",
              "        s.src = paths[lib];\n",
              "        s.async = true;\n",
              "        s.onload = () => resolve(paths[lib]);\n",
              "        s.onerror = () => reject(`Error loading script: ${paths[lib]}`);\n",
              "        document.getElementsByTagName(\"head\")[0].appendChild(s);\n",
              "      });\n",
              "    }\n",
              "\n",
              "    function showError(err) {\n",
              "      outputDiv.innerHTML = `<div class=\"error\" style=\"color:red;\">${err}</div>`;\n",
              "      throw err;\n",
              "    }\n",
              "\n",
              "    function displayChart(vegaEmbed) {\n",
              "      vegaEmbed(outputDiv, spec, embedOpt)\n",
              "        .catch(err => showError(`Javascript Error: ${err.message}<br>This usually means there's a typo in your chart specification. See the javascript console for the full traceback.`));\n",
              "    }\n",
              "\n",
              "    if(typeof define === \"function\" && define.amd) {\n",
              "      requirejs.config({paths});\n",
              "      require([\"vega-embed\"], displayChart, err => showError(`Error loading script: ${err.message}`));\n",
              "    } else if (typeof vegaEmbed === \"function\") {\n",
              "      displayChart(vegaEmbed);\n",
              "    } else {\n",
              "      loadScript(\"vega\")\n",
              "        .then(() => loadScript(\"vega-lite\"))\n",
              "        .then(() => loadScript(\"vega-embed\"))\n",
              "        .catch(showError)\n",
              "        .then(() => displayChart(vegaEmbed));\n",
              "    }\n",
              "  })({\"config\": {\"view\": {\"continuousWidth\": 400, \"continuousHeight\": 300}}, \"data\": {\"name\": \"data-93fbcf3c8e3d6857aa6cf292c9a9179d\"}, \"mark\": \"line\", \"encoding\": {\"color\": {\"type\": \"nominal\", \"field\": \"variable\"}, \"x\": {\"type\": \"quantitative\", \"field\": \"epoch\"}, \"y\": {\"type\": \"quantitative\", \"field\": \"value\"}}, \"selection\": {\"selector001\": {\"type\": \"interval\", \"bind\": \"scales\"}}, \"$schema\": \"https://vega.github.io/schema/vega-lite/v4.8.1.json\", \"datasets\": {\"data-93fbcf3c8e3d6857aa6cf292c9a9179d\": [{\"epoch\": 1, \"variable\": \"loss\", \"value\": 1.3948994593519624}, {\"epoch\": 2, \"variable\": \"loss\", \"value\": 1.0567428704377404}, {\"epoch\": 3, \"variable\": \"loss\", \"value\": 0.9218621230705075}, {\"epoch\": 1, \"variable\": \"acc\", \"value\": 0.5114363403710812}, {\"epoch\": 2, \"variable\": \"acc\", \"value\": 0.6334173064619322}, {\"epoch\": 3, \"variable\": \"acc\", \"value\": 0.6816618682021753}, {\"epoch\": 1, \"variable\": \"val_loss\", \"value\": 1.1968889146948014}, {\"epoch\": 2, \"variable\": \"val_loss\", \"value\": 1.0685699542109577}, {\"epoch\": 3, \"variable\": \"val_loss\", \"value\": 1.0581034034395371}, {\"epoch\": 1, \"variable\": \"val_acc\", \"value\": 0.5755790734824281}, {\"epoch\": 2, \"variable\": \"val_acc\", \"value\": 0.6273961661341853}, {\"epoch\": 3, \"variable\": \"val_acc\", \"value\": 0.6363817891373802}]}}, {\"mode\": \"vega-lite\"});\n",
              "</script>"
            ]
          },
          "metadata": {},
          "execution_count": 8
        }
      ]
    }
  ],
  "metadata": {
    "kernelspec": {
      "display_name": "Python 3",
      "language": "python",
      "name": "python3"
    },
    "language_info": {
      "codemirror_mode": {
        "name": "ipython",
        "version": 3
      },
      "file_extension": ".py",
      "mimetype": "text/x-python",
      "name": "python",
      "nbconvert_exporter": "python",
      "pygments_lexer": "ipython3",
      "version": "3.6.7"
    },
    "colab": {
      "name": "c7e2_convnet_cifar.ipynb",
      "provenance": [],
      "include_colab_link": true
    },
    "accelerator": "GPU"
  },
  "nbformat": 4,
  "nbformat_minor": 0
}